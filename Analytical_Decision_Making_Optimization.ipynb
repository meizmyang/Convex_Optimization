{
  "nbformat": 4,
  "nbformat_minor": 0,
  "metadata": {
    "colab": {
      "name": " Analytical Decision Making  - Optimization.ipynb",
      "version": "0.3.2",
      "views": {},
      "default_view": {},
      "provenance": [],
      "collapsed_sections": []
    },
    "kernelspec": {
      "name": "python3",
      "display_name": "Python 3"
    }
  },
  "cells": [
    {
      "metadata": {
        "id": "tmVory0BzVYY",
        "colab_type": "text"
      },
      "cell_type": "markdown",
      "source": [
        "#  Analytical Decision Making  - Optimization\n",
        "### By Mei Yang "
      ]
    },
    {
      "metadata": {
        "id": "qIWU-JLGzoRS",
        "colab_type": "text"
      },
      "cell_type": "markdown",
      "source": [
        "## 1. Sensitivity Analyses"
      ]
    },
    {
      "metadata": {
        "id": "ypzyEBNW5IWq",
        "colab_type": "text"
      },
      "cell_type": "markdown",
      "source": [
        "### Background\n",
        "Content publishers such as The New York Times, The Washington Post and The Wall Street Journal generate revenue by using display advertisements. The Washington Post's website contains several different sections including Sports and National. The number of views each section gets per day can be estimated by analyzing historical data. Assume that the Sports section gets six million views per day and the National section get five million views per day. Assume four companies, GEICO, Delta, T-Mobile and Capital One, wish to advertise on the Sports and National sections of the Washington Post and they contract directly with the newspaper. For each company, the contract specifies the number of times its display ads are shown in these two sections. The contracts sometimes also specify a total number of page views that can originate from any section of the newspaper. The page views promised by The Washington Post to each advertiser are summarized in the left table below.  Assume that the contract also specifies that The Washington Post receives $2.40 per click-through from each of the four companies. However, not every page view leads to a click. If every 1000 views leads to 5 clicks, the click-through rate is 0.005. Newspapers use historical data and tracking technologies to determine click-through rates. Assume that the relevant click-through rates are given in the right table below. \n",
        "![54323](https://user-images.githubusercontent.com/32555702/39460899-ec280eea-4cbb-11e8-9425-f6e56db049e5.JPG)\n",
        "\n",
        "### 1. Write out the optimization problem. Make sure to detail the decision variables, the objective function and the constraints. \n",
        "\n",
        "\n",
        "---\n",
        "\n",
        "\n",
        "**Decision variables:**\n",
        "The decision variables are the numbers of impressions for the four companies in two different sections of the Washing Post.\n",
        "Let i = 1, 2, 3, 4 be the index of the four companies, and j = 1, 2 be the index of the two sections ----\n",
        "![capture](https://user-images.githubusercontent.com/32555702/39460900-ec47e530-4cbb-11e8-8b09-328ece2bb627.JPG)\n",
        "\n",
        "**Objective function:**    \n",
        "The objective of the Washington Post is to maximize advertising revenues, which is determined by the $2.4 per click charged to the four companies and the click-through rates. Let  Kij  be the click through rates of the four companies, in which  i  represents the company and j represent the section ----\n",
        "![54](https://user-images.githubusercontent.com/32555702/39460896-ebe69b04-4cbb-11e8-8368-170041cfd101.JPG)\n",
        "\n",
        "The objective function is\n",
        "\n",
        "\\begin{equation} Objective=2.4\\times \\sum_{i=1}^4\\sum_{j=1}^{2}  \\kappa_{ij}\\times x_{ij} \\end{equation}\n",
        "\n",
        "**Constraints:**\n",
        "Given that the Sports section gets six million views per day and the National section get five million views per day, and the contract of minimum number of impressions required, we can list the constraints:\n",
        "\n",
        "Geico:\n",
        "\n",
        "    x11>=2,000,000\n",
        "\n",
        "    x12>=1,000,000\n",
        "\n",
        "\n",
        "\n",
        "Delta:\n",
        "\n",
        "    x22>=1,000,000\n",
        "\n",
        "    x21+x22=2,000,000\n",
        "\n",
        "\n",
        "\n",
        "T-Mobile:\n",
        "\n",
        "    x31>=1,000,000\n",
        "\n",
        "    x32>=1,000,000\n",
        "\n",
        "    x31+x32=3,000,000\n",
        "\n",
        "\n",
        "\n",
        "Capital One:\n",
        "\n",
        "    x41+x42=2,000,000\n",
        "\n",
        "\n",
        "\n",
        "Sports:\n",
        "\n",
        "    x11+x21+x31+x41<=6000000\n",
        "\n",
        "\n",
        "\n",
        "National:\n",
        "\n",
        "    x12+x22+x32+x42<=5000000\n",
        "\n",
        "\n",
        "Non-negativity:\n",
        "\n",
        "    xij >= 0\n",
        "\n"
      ]
    },
    {
      "metadata": {
        "id": "QfTERJkxz8zW",
        "colab_type": "code",
        "colab": {
          "autoexec": {
            "startup": false,
            "wait_interval": 0
          },
          "base_uri": "https://localhost:8080/",
          "height": 918
        },
        "outputId": "2a15bd43-73a9-49b3-fa92-5d2255707324",
        "executionInfo": {
          "status": "ok",
          "timestamp": 1525192210881,
          "user_tz": 420,
          "elapsed": 67366,
          "user": {
            "displayName": "Zimei Yang",
            "photoUrl": "https://lh3.googleusercontent.com/a/default-user=s128",
            "userId": "103997432320800495390"
          }
        }
      },
      "cell_type": "code",
      "source": [
        "# install packages for convex optimization\n",
        "!pip install cvxopt\n",
        "!pip install cvxpy"
      ],
      "execution_count": 3,
      "outputs": [
        {
          "output_type": "stream",
          "text": [
            "Collecting cvxopt\n",
            "\u001b[?25l  Downloading https://files.pythonhosted.org/packages/50/5e/569e0012c23200dd4fb6ba03892a75458603050ed765d51aac4b95e27c78/cvxopt-1.2.0-cp36-cp36m-manylinux1_x86_64.whl (11.5MB)\n",
            "\u001b[K    100% |████████████████████████████████| 11.5MB 3.9MB/s \n",
            "\u001b[?25hInstalling collected packages: cvxopt\n",
            "Successfully installed cvxopt-1.2.0\n",
            "Collecting cvxpy\n",
            "\u001b[?25l  Downloading https://files.pythonhosted.org/packages/a7/52/d2928100c93e726acdbb793e4a3662d4c65ace58ca0ddd09463a172f7bed/cvxpy-0.4.11.tar.gz (159kB)\n",
            "\u001b[K    100% |████████████████████████████████| 163kB 7.2MB/s \n",
            "\u001b[?25hCollecting ecos>=2 (from cvxpy)\n",
            "\u001b[?25l  Downloading https://files.pythonhosted.org/packages/b6/b4/988b15513b13e8ea2eac65e97d84221ac515a735a93f046e2a2a3d7863fc/ecos-2.0.5.tar.gz (114kB)\n",
            "\u001b[K    100% |████████████████████████████████| 122kB 8.9MB/s \n",
            "\u001b[?25hCollecting scs>=1.1.3 (from cvxpy)\n",
            "\u001b[?25l  Downloading https://files.pythonhosted.org/packages/b3/fd/6e01c4f4a69fcc6c3db130ba55572089e78e77ea8c0921a679f9da1ec04c/scs-2.0.2.tar.gz (133kB)\n",
            "\u001b[K    100% |████████████████████████████████| 143kB 7.4MB/s \n",
            "\u001b[?25hCollecting multiprocess (from cvxpy)\n",
            "\u001b[?25l  Downloading https://files.pythonhosted.org/packages/65/03/bd8ac79948049b5a0f7ee5f2642f76dbb2d9cb83cc5433dfb2112f89d69a/multiprocess-0.70.5.zip (1.5MB)\n",
            "\u001b[K    100% |████████████████████████████████| 1.5MB 11.1MB/s \n",
            "\u001b[?25hCollecting fastcache (from cvxpy)\n",
            "  Downloading https://files.pythonhosted.org/packages/fb/98/93f2d36738868e8dd5a8dbfc918169b24658f63e5fa041fe000c22ae4f8b/fastcache-1.0.2.tar.gz\n",
            "Requirement already satisfied: six in /usr/local/lib/python3.6/dist-packages (from cvxpy) (1.11.0)\n",
            "Collecting toolz (from cvxpy)\n",
            "\u001b[?25l  Downloading https://files.pythonhosted.org/packages/14/d0/a73c15bbeda3d2e7b381a36afb0d9cd770a9f4adc5d1532691013ba881db/toolz-0.9.0.tar.gz (45kB)\n",
            "\u001b[K    100% |████████████████████████████████| 51kB 19.3MB/s \n",
            "\u001b[?25hRequirement already satisfied: numpy>=1.9 in /usr/local/lib/python3.6/dist-packages (from cvxpy) (1.14.3)\n",
            "Requirement already satisfied: scipy>=0.15 in /usr/local/lib/python3.6/dist-packages (from cvxpy) (0.19.1)\n",
            "Collecting CVXcanon>=0.0.22 (from cvxpy)\n",
            "\u001b[?25l  Downloading https://files.pythonhosted.org/packages/9e/e6/63eb6e7dca5dcb723429e65b456d0e3638976e63f6696b7eb48fee3a491d/CVXcanon-0.1.1.tar.gz (694kB)\n",
            "\u001b[K    100% |████████████████████████████████| 696kB 8.1MB/s \n",
            "\u001b[?25hCollecting dill>=0.2.6 (from multiprocess->cvxpy)\n",
            "\u001b[?25l  Downloading https://files.pythonhosted.org/packages/91/a0/19d4d31dee064fc553ae01263b5c55e7fb93daff03a69debbedee647c5a0/dill-0.2.7.1.tar.gz (64kB)\n",
            "\u001b[K    100% |████████████████████████████████| 71kB 8.0MB/s \n",
            "\u001b[?25hBuilding wheels for collected packages: cvxpy, ecos, scs, multiprocess, fastcache, toolz, CVXcanon, dill\n",
            "  Running setup.py bdist_wheel for cvxpy ... \u001b[?25l-\b \b\\\b \b|\b \b/\b \b-\b \b\\\b \b|\b \bdone\n",
            "\u001b[?25h  Stored in directory: /content/.cache/pip/wheels/2d/26/ba/f0a0388a7ab98124caf88ea8b532b81cf4acb1b6a4a990e3b4\n",
            "  Running setup.py bdist_wheel for ecos ... \u001b[?25l-\b \b\\\b \b|\b \b/\b \b-\b \b\\\b \b|\b \b/\b \b-\b \b\\\b \b|\b \b/\b \b-"
          ],
          "name": "stdout"
        },
        {
          "output_type": "stream",
          "text": [
            "\b \b\\\b \b|\b \b/\b \b-\b \b\\\b \b|\b \b/\b \b-\b \b\\\b \b|\b \bdone\n",
            "\u001b[?25h  Stored in directory: /content/.cache/pip/wheels/50/91/1b/568de3c087b3399b03d130e71b1fd048ec072c45f72b6b6e9a\n",
            "  Running setup.py bdist_wheel for scs ... \u001b[?25l-\b \b\\\b \b|\b \b/\b \b-\b \b\\\b \b|\b \b/\b \b-\b \b\\\b \b|\b \b/\b \b-\b \b\\\b \b|\b \b/\b \b-\b \b\\\b \b|\b \b/\b \b-\b \b\\\b \b|\b \b/\b \b-\b \b\\\b \b|\b \b/\b \b-\b \b\\\b \b|\b \b/\b \b-\b \b\\\b \b|\b \b/\b \b-\b \b\\\b \bdone\n",
            "\u001b[?25h  Stored in directory: /content/.cache/pip/wheels/ff/f0/aa/530ccd478d7d9900b4e9ef5bc5a39e895ce110bed3d3ac653e\n",
            "  Running setup.py bdist_wheel for multiprocess ... \u001b[?25l-\b \b\\\b \b|\b \b/\b \bdone\n",
            "\u001b[?25h  Stored in directory: /content/.cache/pip/wheels/85/44/92/7635fa709a1e88a4dca84eba3d1566fc0e2b001d4d84f40d35\n",
            "  Running setup.py bdist_wheel for fastcache ... \u001b[?25l-\b \b\\\b \bdone\n",
            "\u001b[?25h  Stored in directory: /content/.cache/pip/wheels/b7/90/c0/da92ac52d188d9ebca577044e89a14d0e6ff333c1bcd1ebc14\n",
            "  Running setup.py bdist_wheel for toolz ... \u001b[?25l-\b \b\\\b \bdone\n",
            "\u001b[?25h  Stored in directory: /content/.cache/pip/wheels/f4/0c/f6/ce6b2d1aa459ee97cc3c0f82236302bd62d89c86c700219463\n",
            "  Running setup.py bdist_wheel for CVXcanon ... \u001b[?25l-\b \b\\\b \b|\b \b/\b \b-\b \b\\\b \b|\b \b/\b \b-\b \b\\\b \b|\b \b/\b \b-\b \b\\\b \b|\b \b/\b \b-\b \b\\\b \b|\b \b/\b \b-\b \b\\\b \b|\b \b/\b \b-\b \b\\\b \bdone\n",
            "\u001b[?25h  Stored in directory: /content/.cache/pip/wheels/46/a7/aa/2116e25ce5ef04deae6a3c4d01908449e572393351edf65b14\n",
            "  Running setup.py bdist_wheel for dill ... \u001b[?25l-\b \bdone\n",
            "\u001b[?25h  Stored in directory: /content/.cache/pip/wheels/99/c4/ed/1b64d2d5809e60d5a3685530432f6159d6a9959739facb61f2\n",
            "Successfully built cvxpy ecos scs multiprocess fastcache toolz CVXcanon dill\n",
            "Installing collected packages: ecos, scs, dill, multiprocess, fastcache, toolz, CVXcanon, cvxpy\n",
            "Successfully installed CVXcanon-0.1.1 cvxpy-0.4.11 dill-0.2.7.1 ecos-2.0.5 fastcache-1.0.2 multiprocess-0.70.5 scs-2.0.2 toolz-0.9.0\n"
          ],
          "name": "stdout"
        }
      ]
    },
    {
      "metadata": {
        "id": "b6hR90Y20n4h",
        "colab_type": "code",
        "colab": {
          "autoexec": {
            "startup": false,
            "wait_interval": 0
          }
        }
      },
      "cell_type": "code",
      "source": [
        "# import packages\n",
        "import math\n",
        "import numpy as np\n",
        "import cvxpy as cvx\n",
        "\n",
        "\n",
        "# Define the Variables\n",
        "x11 = cvx.Int()# Geico Sports\n",
        "x12 = cvx.Int()# Geico National\n",
        "x21 = cvx.Int()# Delta Sports\n",
        "x22 = cvx.Int()# Delta National\n",
        "x31 = cvx.Int()# T-Mobile Sports\n",
        "x32 = cvx.Int()# T-Mobile National\n",
        "x41 = cvx.Int()# Capital One Sports\n",
        "x42 = cvx.Int()# Capital One National\n",
        "\n",
        "# Define the Constraints\n",
        "c1= x11>= 2000000 \n",
        "c2= x12>= 1000000 \n",
        "c3=x22>= 1000000 \n",
        "c4= x21+x22== 2000000 \n",
        "c5=x31>=1000000\n",
        "c6=x32>=1000000\n",
        "c7=x31+x32==3000000\n",
        "c8=x41+x42==2000000\n",
        "c9=x11+x21+x31+x41<=6000000\n",
        "c10=x12+x22+x32+x42<=5000000\n",
        "c11=0<=x21\n",
        "c12=0<=x41\n",
        "c13=0<=x42\n",
        "\n",
        "con=[c1,c2,c3,c4,c5,c6,c7,c8,c9,c10,c11,c12,c13]\n",
        "\n",
        "\n",
        "# Define the objective function\n",
        "k11=2.5/100\n",
        "k12=0.8/100\n",
        "k21=2.0/100\n",
        "k22=1.0/100\n",
        "k31=1.0/100\n",
        "k32=3.0/100\n",
        "k41=1.5/100\n",
        "k42=2.0/100\n",
        "\n",
        "OF=(k11*x11 + k12*x12+ k21*x21 + k22*x22 + k31*x31+ k32*x32+k41*x41+k42*x42)*2.4\n",
        "objective = cvx.Maximize(OF)\n",
        "\n",
        "\n",
        "#solving\n",
        "prob = cvx.Problem(objective, con)\n",
        "result = prob.solve()\n"
      ],
      "execution_count": 0,
      "outputs": []
    },
    {
      "metadata": {
        "id": "8nZ_g6Ax8pSJ",
        "colab_type": "text"
      },
      "cell_type": "markdown",
      "source": [
        "### 2.\tWhat is the optimal solution? Give the values of the decision variables and the optimal objective function value. \n",
        "\n",
        "\n",
        "---\n",
        "\n",
        "\n",
        "Optimal Objective Function Value - \n",
        "\n",
        "    $523199.9999984559\n",
        "\n",
        "Impression Allocation in the Sport Section - \n",
        "\n",
        "    GEICO: 2999999.999998966\n",
        "    DELTA: 999999.999968759\n",
        "    T-MOBILE: 1000000.0000099222\n",
        "    CAPITAL ONE: 1000000.0000220642\n",
        "\n",
        "Impression Allocation in the National Section - \n",
        "\n",
        "    GEICO: 1000000.0000004534\n",
        "    DELTA: 1000000.0000312413\n",
        "    T-MOBILE: 1999999.9999900782\n",
        "    CAPITAL ONE: 999999.9999779359\n"
      ]
    },
    {
      "metadata": {
        "id": "09MXD4848oCa",
        "colab_type": "code",
        "colab": {
          "autoexec": {
            "startup": false,
            "wait_interval": 0
          },
          "base_uri": "https://localhost:8080/",
          "height": 221
        },
        "outputId": "4c80f028-d85b-413c-e3dc-b95c0a0159bf",
        "executionInfo": {
          "status": "ok",
          "timestamp": 1525154109487,
          "user_tz": 420,
          "elapsed": 503,
          "user": {
            "displayName": "Zimei Yang",
            "photoUrl": "https://lh3.googleusercontent.com/a/default-user=s128",
            "userId": "103997432320800495390"
          }
        }
      },
      "cell_type": "code",
      "source": [
        "print('The Optimal Objective Function Value Is:')\n",
        "print(\"$\", prob.value)\n",
        "\n",
        "print('Allocation in the Sport Section')\n",
        "print (\"GEICO:\", x11.value)\n",
        "print (\"DELTA:\", x21.value)\n",
        "print (\"T-MOBILE:\", x31.value)\n",
        "print (\"CAPITAL ONE:\", x41.value)\n",
        "\n",
        "print('Allocation in the National Section')\n",
        "print (\"GEICO:\", x12.value)\n",
        "print (\"DELTA:\", x22.value)\n",
        "print (\"T-MOBILE:\", x32.value)\n",
        "print (\"CAPITAL ONE:\", x42.value)"
      ],
      "execution_count": 21,
      "outputs": [
        {
          "output_type": "stream",
          "text": [
            "The Optimal Objective Function Value Is:\n",
            "$ 523199.9999984559\n",
            "Allocation in the Sport Section\n",
            "GEICO: 2999999.999998966\n",
            "DELTA: 999999.999968759\n",
            "T-MOBILE: 1000000.0000099222\n",
            "CAPITAL ONE: 1000000.0000220642\n",
            "Allocation in the National Section\n",
            "GEICO: 1000000.0000004534\n",
            "DELTA: 1000000.0000312413\n",
            "T-MOBILE: 1999999.9999900782\n",
            "CAPITAL ONE: 999999.9999779359\n"
          ],
          "name": "stdout"
        }
      ]
    },
    {
      "metadata": {
        "id": "Fbapm3409i0L",
        "colab_type": "text"
      },
      "cell_type": "markdown",
      "source": [
        "### 3.\tConduct sensitivity analyses of the optimal solution to different click-through rates as given in the table below. Do one cell at time if you want, e.g., sensitivity of the solution to different CTRs for GEICO in the Sports section, then in the National section; then do the same for each advertiser. \n",
        "![1](https://user-images.githubusercontent.com/32555702/39461144-a2d6e110-4cbd-11e8-9c64-7c8741eeb9bf.JPG)\n"
      ]
    },
    {
      "metadata": {
        "id": "cgNRS-xA74vR",
        "colab_type": "code",
        "colab": {
          "autoexec": {
            "startup": false,
            "wait_interval": 0
          }
        }
      },
      "cell_type": "code",
      "source": [
        "import pandas as pd\n",
        "\n",
        "# Set range for sensitivity analysis with a difference of 0.0001\n",
        "r11 = np.arange(0.02,0.03, 0.0001)   \n",
        "r21 = np.arange(0.015,0.025, 0.0001) \n",
        "r31 = np.arange(0.005,0.015, 0.0001)\n",
        "r41 = np.arange(0.015,0.020, 0.0001) \n",
        "\n",
        "r21 = np.arange(0.001,0.011, 0.0001) \n",
        "r22 = np.arange(0.005,0.015, 0.0001)\n",
        "r32 = np.arange(0.025,0.035, 0.0001)  \n",
        "r42 = np.arange(0.015,0.025, 0.0001) "
      ],
      "execution_count": 0,
      "outputs": []
    },
    {
      "metadata": {
        "id": "srtVsCBKiLmY",
        "colab_type": "code",
        "colab": {
          "autoexec": {
            "startup": false,
            "wait_interval": 0
          },
          "base_uri": "https://localhost:8080/",
          "height": 86
        },
        "outputId": "eddfe59c-046a-4b56-e1cb-4ff17bd3c4c5",
        "executionInfo": {
          "status": "ok",
          "timestamp": 1525193811518,
          "user_tz": 420,
          "elapsed": 1080,
          "user": {
            "displayName": "Zimei Yang",
            "photoUrl": "https://lh3.googleusercontent.com/a/default-user=s128",
            "userId": "103997432320800495390"
          }
        }
      },
      "cell_type": "code",
      "source": [
        "# Geico on Sports\n",
        "r11_list = []\n",
        "\n",
        "# def optimization function\n",
        "def opt(n):\n",
        "    OF_r11 = ((n*x11+k12*x12+k21*x21+k22*x22+k31*x31+k32*x32+k41*x41+k42*x42)*2.4)\n",
        "    obj_r11 = cvx.Maximize(OF_r11)\n",
        "    prob_r11 = cvx.Problem(obj_r11, con)\n",
        "    return prob_r11.solve()\n",
        "\n",
        "# sensitivity analysis\n",
        "for n in (r11):\n",
        "    r11_list.append(opt(n))\n",
        "    \n",
        "df_r11 = pd.DataFrame(data=[r11,r11_list]).transpose()\n",
        "names = ['Click Through Rate', 'Optimal Revenue']\n",
        "df_r11.columns = names\n",
        "\n",
        "# find CTR with the optimal revenue\n",
        "print(\"Sensitivity Analysis Result for Geico on Sports:\")\n",
        "df_r11.max()"
      ],
      "execution_count": 40,
      "outputs": [
        {
          "output_type": "stream",
          "text": [
            "Sensitivity Analysis Result for Geico on Sports:\n"
          ],
          "name": "stdout"
        },
        {
          "output_type": "execute_result",
          "data": {
            "text/plain": [
              "Click Through Rate         0.029900\n",
              "Optimal Revenue       558479.999997\n",
              "dtype: float64"
            ]
          },
          "metadata": {
            "tags": []
          },
          "execution_count": 40
        }
      ]
    },
    {
      "metadata": {
        "id": "UoxPstN5oHqd",
        "colab_type": "code",
        "colab": {
          "autoexec": {
            "startup": false,
            "wait_interval": 0
          },
          "base_uri": "https://localhost:8080/",
          "height": 86
        },
        "outputId": "1592fbf4-32d6-431c-ea7f-957dfc6fd0d8",
        "executionInfo": {
          "status": "ok",
          "timestamp": 1525193953140,
          "user_tz": 420,
          "elapsed": 1223,
          "user": {
            "displayName": "Zimei Yang",
            "photoUrl": "https://lh3.googleusercontent.com/a/default-user=s128",
            "userId": "103997432320800495390"
          }
        }
      },
      "cell_type": "code",
      "source": [
        "# Geico on National\n",
        "r21_list = []\n",
        "\n",
        "# def optimization function\n",
        "def opt(n):\n",
        "    OF_r21 = ((k11*x11+n*x12+k21*x21+k22*x22+k31*x31+k32*x32+k41*x41+k42*x42)*2.4)\n",
        "    obj_r21 = cvx.Maximize(OF_r21)\n",
        "    prob_r21 = cvx.Problem(obj_r21, con)\n",
        "    return prob_r21.solve()\n",
        "\n",
        "# sensitivity analysis\n",
        "for n in (r21):\n",
        "    r21_list.append(opt(n))\n",
        "    \n",
        "df_r21 = pd.DataFrame(data=[r21,r21_list]).transpose()\n",
        "names = ['Click Through Rate', 'Optimal Revenue']\n",
        "df_r21.columns = names\n",
        "\n",
        "# find CTR with the optimal revenue\n",
        "print(\"Sensitivity Analysis Result for Geico on National:\")\n",
        "df_r21.max()"
      ],
      "execution_count": 45,
      "outputs": [
        {
          "output_type": "stream",
          "text": [
            "Sensitivity Analysis Result for Geico on National:\n"
          ],
          "name": "stdout"
        },
        {
          "output_type": "execute_result",
          "data": {
            "text/plain": [
              "Click Through Rate         0.010900\n",
              "Optimal Revenue       530159.999999\n",
              "dtype: float64"
            ]
          },
          "metadata": {
            "tags": []
          },
          "execution_count": 45
        }
      ]
    },
    {
      "metadata": {
        "id": "F0DgHYbHpMpI",
        "colab_type": "code",
        "colab": {
          "autoexec": {
            "startup": false,
            "wait_interval": 0
          },
          "base_uri": "https://localhost:8080/",
          "height": 86
        },
        "outputId": "0a1ba51d-1026-4cc8-b936-3664d0764c51",
        "executionInfo": {
          "status": "ok",
          "timestamp": 1525194701590,
          "user_tz": 420,
          "elapsed": 1826,
          "user": {
            "displayName": "Zimei Yang",
            "photoUrl": "https://lh3.googleusercontent.com/a/default-user=s128",
            "userId": "103997432320800495390"
          }
        }
      },
      "cell_type": "code",
      "source": [
        "# Delta on Sports\n",
        "r21_list = []\n",
        "\n",
        "# def optimization function\n",
        "def opt(n):\n",
        "    OF_r21 = ((k11*x11+k12*x12+n*x21+k22*x22+k31*x31+k32*x32+k41*x41+k42*x42)*2.4)\n",
        "    obj_r21 = cvx.Maximize(OF_r21)\n",
        "    prob_r21 = cvx.Problem(obj_r21, con)\n",
        "    return prob_r21.solve()\n",
        "\n",
        "# sensitivity analysis\n",
        "for n in (r21):\n",
        "    r21_list.append(opt(n))\n",
        "    \n",
        "df_r21 = pd.DataFrame(data=[r21,r21_list]).transpose()\n",
        "names = ['Click Through Rate', 'Optimal Revenue']\n",
        "df_r21.columns = names\n",
        "\n",
        "# find CTR with the optimal revenue\n",
        "print(\"Sensitivity Analysis Result for Delta on Sports:\")\n",
        "df_r21.max()"
      ],
      "execution_count": 58,
      "outputs": [
        {
          "output_type": "stream",
          "text": [
            "Sensitivity Analysis Result for Delta on Sports:\n"
          ],
          "name": "stdout"
        },
        {
          "output_type": "execute_result",
          "data": {
            "text/plain": [
              "Click Through Rate         0.0109\n",
              "Optimal Revenue       501360.0000\n",
              "dtype: float64"
            ]
          },
          "metadata": {
            "tags": []
          },
          "execution_count": 58
        }
      ]
    },
    {
      "metadata": {
        "id": "t9fLuZI1pE7N",
        "colab_type": "code",
        "colab": {
          "autoexec": {
            "startup": false,
            "wait_interval": 0
          },
          "base_uri": "https://localhost:8080/",
          "height": 86
        },
        "outputId": "4e6c6bbd-5679-44cf-d48e-8080dcf8cd18",
        "executionInfo": {
          "status": "ok",
          "timestamp": 1525194705572,
          "user_tz": 420,
          "elapsed": 1231,
          "user": {
            "displayName": "Zimei Yang",
            "photoUrl": "https://lh3.googleusercontent.com/a/default-user=s128",
            "userId": "103997432320800495390"
          }
        }
      },
      "cell_type": "code",
      "source": [
        "# Delta on National\n",
        "r22_list = []\n",
        "\n",
        "# def optimization function\n",
        "def opt(n):\n",
        "    OF_r22 =  ((k11*x11+k12*x12+k21*x21+n*x22+k31*x31+k32*x32+k41*x41+k42*x42)*2.4)\n",
        "    obj_r22 = cvx.Maximize(OF_r22)\n",
        "    prob_r22 = cvx.Problem(obj_r22, con)\n",
        "    return prob_r22.solve()\n",
        "\n",
        "# sensitivity analysis\n",
        "for n in (r22):\n",
        "    r22_list.append(opt(n))\n",
        "    \n",
        "df_r22 = pd.DataFrame(data=[r22,r22_list]).transpose()\n",
        "names = ['Click Through Rate', 'Optimal Revenue']\n",
        "df_r22.columns = names\n",
        "\n",
        "# find CTR with the optimal revenue\n",
        "print(\"Sensitivity Analysis Result for Delta on National:\")\n",
        "df_r22.max()"
      ],
      "execution_count": 59,
      "outputs": [
        {
          "output_type": "stream",
          "text": [
            "Sensitivity Analysis Result for Delta on National:\n"
          ],
          "name": "stdout"
        },
        {
          "output_type": "execute_result",
          "data": {
            "text/plain": [
              "Click Through Rate         0.0149\n",
              "Optimal Revenue       534960.0000\n",
              "dtype: float64"
            ]
          },
          "metadata": {
            "tags": []
          },
          "execution_count": 59
        }
      ]
    },
    {
      "metadata": {
        "id": "082x76R5sEVo",
        "colab_type": "code",
        "colab": {
          "autoexec": {
            "startup": false,
            "wait_interval": 0
          },
          "base_uri": "https://localhost:8080/",
          "height": 86
        },
        "outputId": "ca5cd97c-1a4d-4d65-e88b-0e1e0489bc4d",
        "executionInfo": {
          "status": "ok",
          "timestamp": 1525194806955,
          "user_tz": 420,
          "elapsed": 2152,
          "user": {
            "displayName": "Zimei Yang",
            "photoUrl": "https://lh3.googleusercontent.com/a/default-user=s128",
            "userId": "103997432320800495390"
          }
        }
      },
      "cell_type": "code",
      "source": [
        "# T-Mobile on Sports\n",
        "r31_list = []\n",
        "\n",
        "# def optimization function\n",
        "def opt(n):\n",
        "    OF_r31 = ((k11*x11+k12*x12+k21*x21+k22*x22+n*x31+k32*x32+k41*x41+k42*x42)*2.4)\n",
        "    obj_r31 = cvx.Maximize(OF_r31)\n",
        "    prob_r31 = cvx.Problem(obj_r31, con)\n",
        "    return prob_r31.solve()\n",
        "\n",
        "# sensitivity analysis\n",
        "for n in (r31):\n",
        "    r31_list.append(opt(n))\n",
        "    \n",
        "df_r31 = pd.DataFrame(data=[r31,r31_list]).transpose()\n",
        "names = ['Click Through Rate', 'Optimal Revenue']\n",
        "df_r31.columns = names\n",
        "\n",
        "# find CTR with the optimal revenue\n",
        "print(\"Sensitivity Analysis Result for T-Mobile on Sports:\")\n",
        "df_r31.max()"
      ],
      "execution_count": 60,
      "outputs": [
        {
          "output_type": "stream",
          "text": [
            "Sensitivity Analysis Result for T-Mobile on Sports:\n"
          ],
          "name": "stdout"
        },
        {
          "output_type": "execute_result",
          "data": {
            "text/plain": [
              "Click Through Rate         0.014900\n",
              "Optimal Revenue       534959.999999\n",
              "dtype: float64"
            ]
          },
          "metadata": {
            "tags": []
          },
          "execution_count": 60
        }
      ]
    },
    {
      "metadata": {
        "id": "xlRHB6fYpr-4",
        "colab_type": "code",
        "colab": {
          "autoexec": {
            "startup": false,
            "wait_interval": 0
          },
          "base_uri": "https://localhost:8080/",
          "height": 86
        },
        "outputId": "3bde49e0-6c17-4b64-a31c-7cd34e13f0c1",
        "executionInfo": {
          "status": "ok",
          "timestamp": 1525194814300,
          "user_tz": 420,
          "elapsed": 1967,
          "user": {
            "displayName": "Zimei Yang",
            "photoUrl": "https://lh3.googleusercontent.com/a/default-user=s128",
            "userId": "103997432320800495390"
          }
        }
      },
      "cell_type": "code",
      "source": [
        "#T-Mobile on National\n",
        "r32_list = []\n",
        "\n",
        "# def optimization function\n",
        "def opt(n):\n",
        "    OF_r32 = ((k11*x11+k12*x12+k21*x21+k22*x22+k31*x31+n*x32+k41*x41+k42*x42)*2.4)\n",
        "    obj_r32 = cvx.Maximize(OF_r32)\n",
        "    prob_r32 = cvx.Problem(obj_r32, con)\n",
        "    return prob_r32.solve()\n",
        "\n",
        "# sensitivity analysis\n",
        "for n in (r32):\n",
        "    r32_list.append(opt(n))\n",
        "    \n",
        "df_r32 = pd.DataFrame(data=[r32,r32_list]).transpose()\n",
        "names = ['Click Through Rate', 'Optimal Revenue']\n",
        "df_r32.columns = names\n",
        "\n",
        "# find CTR with the optimal revenue\n",
        "print(\"Sensit#ivity Analysis Result for T-Mobile on National:\")\n",
        "df_r32.max()"
      ],
      "execution_count": 61,
      "outputs": [
        {
          "output_type": "stream",
          "text": [
            "Sensit#ivity Analysis Result for T-Mobile on National:\n"
          ],
          "name": "stdout"
        },
        {
          "output_type": "execute_result",
          "data": {
            "text/plain": [
              "Click Through Rate         0.035000\n",
              "Optimal Revenue       547199.999999\n",
              "dtype: float64"
            ]
          },
          "metadata": {
            "tags": []
          },
          "execution_count": 61
        }
      ]
    },
    {
      "metadata": {
        "id": "6e-7i5_5ses-",
        "colab_type": "code",
        "colab": {
          "autoexec": {
            "startup": false,
            "wait_interval": 0
          },
          "base_uri": "https://localhost:8080/",
          "height": 86
        },
        "outputId": "fb0d3a9a-fdcf-4533-a681-1e03d7e9cc44",
        "executionInfo": {
          "status": "ok",
          "timestamp": 1525194880967,
          "user_tz": 420,
          "elapsed": 2295,
          "user": {
            "displayName": "Zimei Yang",
            "photoUrl": "https://lh3.googleusercontent.com/a/default-user=s128",
            "userId": "103997432320800495390"
          }
        }
      },
      "cell_type": "code",
      "source": [
        "# Capital One on Sports\n",
        "r41_list = []\n",
        "\n",
        "# def optimization function\n",
        "def opt(n):\n",
        "    OF_r41 = ((k11*x11+k12*x12+k21*x21+k22*x22+k31*x31+k32*x32+n*x41+k42*x42)*2.4)\n",
        "    obj_r41 = cvx.Maximize(OF_r41)\n",
        "    prob_r41 = cvx.Problem(obj_r41, con)\n",
        "    return prob_r41.solve()\n",
        "\n",
        "# sensitivity analysis\n",
        "for n in (r41):\n",
        "    r41_list.append(opt(n))\n",
        "    \n",
        "df_r41 = pd.DataFrame(data=[r41,r41_list]).transpose()\n",
        "names = ['Click Through Rate', 'Optimal Revenue']\n",
        "df_r41.columns = names\n",
        "\n",
        "# find CTR with the optimal revenue\n",
        "print(\"Sensitivity Analysis Result for T-Mobile on Sports:\")\n",
        "df_r41.max()"
      ],
      "execution_count": 62,
      "outputs": [
        {
          "output_type": "stream",
          "text": [
            "Sensitivity Analysis Result for T-Mobile on Sports:\n"
          ],
          "name": "stdout"
        },
        {
          "output_type": "execute_result",
          "data": {
            "text/plain": [
              "Click Through Rate         0.020000\n",
              "Optimal Revenue       535199.999999\n",
              "dtype: float64"
            ]
          },
          "metadata": {
            "tags": []
          },
          "execution_count": 62
        }
      ]
    },
    {
      "metadata": {
        "id": "bk2HD86Iqdul",
        "colab_type": "code",
        "colab": {
          "autoexec": {
            "startup": false,
            "wait_interval": 0
          },
          "base_uri": "https://localhost:8080/",
          "height": 86
        },
        "outputId": "9b3e46ec-b30a-467d-f0a1-acc1e0facddf",
        "executionInfo": {
          "status": "ok",
          "timestamp": 1525194421402,
          "user_tz": 420,
          "elapsed": 1059,
          "user": {
            "displayName": "Zimei Yang",
            "photoUrl": "https://lh3.googleusercontent.com/a/default-user=s128",
            "userId": "103997432320800495390"
          }
        }
      },
      "cell_type": "code",
      "source": [
        "# Capital One on National\n",
        "r42_list = []\n",
        "\n",
        "# def optimization function\n",
        "def opt(n):\n",
        "    OF_r42 = ((k11*x11+k12*x12+k21*x21+k22*x22+k31*x31+k32*x32+k41*x41+n*x42)*2.4)\n",
        "    obj_r42 = cvx.Maximize(OF_r42)\n",
        "    prob_r42 = cvx.Problem(obj_r42, con)\n",
        "    return prob_r42.solve()\n",
        "\n",
        "# sensitivity analysis\n",
        "for n in (r42):\n",
        "    r42_list.append(opt(n))\n",
        "    \n",
        "df_r42 = pd.DataFrame(data=[r42,r42_list]).transpose()\n",
        "names = ['Click Through Rate', 'Optimal Revenue']\n",
        "df_r42.columns = names\n",
        "\n",
        "# find CTR with the optimal revenue\n",
        "print(\"Sensit#ivity Analysis Result for Capital One on National:\")\n",
        "df_r42.max()"
      ],
      "execution_count": 55,
      "outputs": [
        {
          "output_type": "stream",
          "text": [
            "Sensit#ivity Analysis Result for Capital One on National:\n"
          ],
          "name": "stdout"
        },
        {
          "output_type": "execute_result",
          "data": {
            "text/plain": [
              "Click Through Rate         0.025\n",
              "Optimal Revenue       535200.000\n",
              "dtype: float64"
            ]
          },
          "metadata": {
            "tags": []
          },
          "execution_count": 55
        }
      ]
    },
    {
      "metadata": {
        "id": "guCdmceEEW7p",
        "colab_type": "text"
      },
      "cell_type": "markdown",
      "source": [
        "### 4. Write no more than one paragraph to describe the results of your analyses. Tables or graphs can be provided as supplemental material.\n",
        "\n",
        "---\n",
        "\n",
        "According the results of sensitivity analyses, click through rates that can bring optimal strategy are all found at the higher end of the given ranges. Therefore, we can conclude that increasing click through rate is a good way to increase revenue. However, comparing the difference between revenue increased by increasing click through rate, the increase in revenue isn't very rapid. So when investing in increasing click through rate, the Washing Post might want to pay attention the costs of increasing click through rate and ROI."
      ]
    },
    {
      "metadata": {
        "id": "96uN_8uh4Bz1",
        "colab_type": "text"
      },
      "cell_type": "markdown",
      "source": [
        "## 2: Operations Excellence "
      ]
    },
    {
      "metadata": {
        "id": "KLQGxuHfCNgb",
        "colab_type": "text"
      },
      "cell_type": "markdown",
      "source": [
        "### Background\n",
        "You operate two plants, i.e., A and B. Each plant makes two products, “standard” and “deluxe”. A unit of standard gives a profit contribution of 10 dollars, while a unit of deluxe gives a profit contribution of 15 dollars. \n",
        " \n",
        "Each plant uses two processes, grinding and polishing, for producing its products. Plant A has a grinding capacity of 80 hours per week and polishing capacity of 60 hours per week. For plant B, these capacities are 60 and 75 hours per week, respectively. \n",
        " \n",
        "The grinding and polishing times in hours for a unit of each type of product in each factory are given in the tables below. \n",
        "\n",
        "| Plant A |  Standard  |  Deluxe          \n",
        "| :---:|:---: | :---:\n",
        "|   Grinding  |   4   |   2\n",
        "|   Polishing |   2   |   5\n",
        "\n",
        "\n",
        "| Plant B |  Standard  |  Deluxe          \n",
        "| :---:|:---: | :---:\n",
        "|   Grinding  |   5   |   3\n",
        "|   Polishing |   5   |   6\n",
        "\n",
        "\n",
        "It is possible, for example, that plant B has older machines than plant A, resulting in higher unit processing times. In addition, each unit of each product uses 4 kg of a raw material, which we refer to as raw. The company has 120 kg of raw available per week. To start with, we will assume that plant A is allocated 75 kg of raw per week and plant B the remaining 45 kg per week. Each plant can build a very simple linear programming model to maximize its profit contribution.  \n",
        "\n",
        "\n",
        "### 1.\tWrite the optimization models for each plant, i.e., make sure to detail the decision variables, the objective function and the constraints. \n",
        "\n",
        "\n",
        "---\n",
        "\n",
        "\n",
        "**Decision Variable:** \n",
        "Let i be the index of plants, i = a represent plant A and i = b represents plant; let j be the index of products, j = 1 represent \"Standard\" and j = 2 represents \"Deluxe\".\n",
        "The decision variables, Xij, will be the number of units each product produced by each plant ----\n",
        "\n",
        "| Plant|  Standard  |  Deluxe          \n",
        "| :---:|:---: | :---:\n",
        "|   A  |   xa1   |   xa2\n",
        "|   B  |   xb1   |   xb2\n",
        "\n",
        "\n",
        "**Objective Function:**\n",
        "The objective is for each plant to maximize its profit contribution, so we hace objective functions:\n",
        "\n",
        "     Plant A: max 10Xa1+15Xa2 \n",
        "\n",
        "     Plant B: max 10Xb1+15Xb2 \n",
        "\n",
        "**Constraints:**\n",
        "According to grinding and polishing capacities of each plant and that plant A is allocated 75 kg of raw per week and plant B the remaining 45 kg per week, the constraints are:\n",
        "\n",
        "Plant A: \n",
        "\n",
        "    4Xa1+4Xa2<=75\n",
        "\n",
        "    4Xa1+2Xa2<=80\n",
        "\n",
        "    2Xa1+5Xa2<=60\n",
        "\n",
        "    Xa1,Xa2>=0\n",
        "\n",
        "        \n",
        "Plant B: \n",
        "\n",
        "    4Xb1+4Xb2<=45\n",
        "\n",
        "    5Xb1+3Xb2<=60\n",
        "\n",
        "    5Xb1+6Xb2<=75\n",
        "\n",
        "    Xb1,Xb2>=0"
      ]
    },
    {
      "metadata": {
        "id": "_aXGE0ZVNa9J",
        "colab_type": "text"
      },
      "cell_type": "markdown",
      "source": [
        "### 2.\tProvide the optimal solutions and profit levels for each factory. Give the values of the decision variables and the optimal objective function value. \n",
        "\n",
        "\n",
        "---\n",
        "\n",
        "\n",
        "I listed 3 ways to solve this problem, and solution 3 worked the best. The answers are:\n",
        "\n",
        "\n",
        "    PLant A should produce 10.0 units of standard product and 8.0 units of deluxe product. \n",
        "    The maxmized profit of Plant A is $ 220.0.\n",
        "    \n",
        "    PLant B should produce 0.0 units of standard product and 11.0 units of deluxe product. \n",
        "    The maxmized profit of Plant B is $ 165.0."
      ]
    },
    {
      "metadata": {
        "id": "RMdv707OSbQ3",
        "colab_type": "text"
      },
      "cell_type": "markdown",
      "source": [
        "#### *Solution 1*"
      ]
    },
    {
      "metadata": {
        "id": "VRKbIaom4Q5P",
        "colab_type": "code",
        "colab": {
          "autoexec": {
            "startup": false,
            "wait_interval": 0
          },
          "base_uri": "https://localhost:8080/",
          "height": 238
        },
        "outputId": "9252a190-bb53-403a-c4f7-421764369025",
        "executionInfo": {
          "status": "ok",
          "timestamp": 1525155224193,
          "user_tz": 420,
          "elapsed": 1510,
          "user": {
            "displayName": "Zimei Yang",
            "photoUrl": "https://lh3.googleusercontent.com/a/default-user=s128",
            "userId": "103997432320800495390"
          }
        }
      },
      "cell_type": "code",
      "source": [
        "# try solve the porblem with CVXOPT solver\n",
        "import cvxopt\n",
        "from cvxopt import matrix, solvers\n",
        "  \n",
        "# plant A\n",
        "A = matrix([ [4.0, 4.0, 2.0,-1.0,0.0], [4.0, 2.0, 5.0, 0.0,-1.0] ])\n",
        "b = matrix([ 75.0, 80.0, 60.0, 0.0, 0.0 ])\n",
        "c = matrix([ -10.0, -15.0 ])\n",
        "sol=solvers.lp(c,A,b)\n",
        "print(sol['x'])\n",
        "print(-sol['primal objective'])\n",
        "print(-numpy.matmul(numpy.transpose(c),sol['x']))"
      ],
      "execution_count": 29,
      "outputs": [
        {
          "output_type": "stream",
          "text": [
            "     pcost       dcost       gap    pres   dres   k/t\n",
            " 0: -2.3150e+02 -5.3116e+02  1e+02  1e-01  1e+00  1e+00\n",
            " 1: -2.2424e+02 -2.4880e+02  7e+00  1e-02  9e-02  4e-01\n",
            " 2: -2.2499e+02 -2.2530e+02  8e-02  1e-04  1e-03  6e-03\n",
            " 3: -2.2500e+02 -2.2500e+02  8e-04  1e-06  1e-05  6e-05\n",
            " 4: -2.2500e+02 -2.2500e+02  8e-06  1e-08  1e-07  6e-07\n",
            " 5: -2.2500e+02 -2.2500e+02  8e-08  1e-10  1e-09  6e-09\n",
            "Optimal solution found.\n",
            "[ 1.13e+01]\n",
            "[ 7.50e+00]\n",
            "\n",
            "224.99999998590417\n",
            "[[224.99999999]]\n"
          ],
          "name": "stdout"
        }
      ]
    },
    {
      "metadata": {
        "id": "gzsjQeRk4AuV",
        "colab_type": "code",
        "colab": {
          "autoexec": {
            "startup": false,
            "wait_interval": 0
          },
          "base_uri": "https://localhost:8080/",
          "height": 272
        },
        "outputId": "5521a229-c5ee-463b-fb45-f68c7d1806e4",
        "executionInfo": {
          "status": "ok",
          "timestamp": 1525155232293,
          "user_tz": 420,
          "elapsed": 1661,
          "user": {
            "displayName": "Zimei Yang",
            "photoUrl": "https://lh3.googleusercontent.com/a/default-user=s128",
            "userId": "103997432320800495390"
          }
        }
      },
      "cell_type": "code",
      "source": [
        "# plant B\n",
        "A = matrix([ [4.0, 5.0, 5.0,-1.0,0.0], [4.0, 3.0, .0, 0.0,-1.0] ])\n",
        "b = matrix([ 45.0, 60.0, 75.0, 0.0, 0.0 ])\n",
        "c = matrix([ -10.0, -15.0 ])\n",
        "sol=solvers.lp(c,A,b)\n",
        "print(sol['x'])\n",
        "print(-sol['primal objective'])\n",
        "print(-numpy.matmul(numpy.transpose(c),sol['x']))"
      ],
      "execution_count": 30,
      "outputs": [
        {
          "output_type": "stream",
          "text": [
            "     pcost       dcost       gap    pres   dres   k/t\n",
            " 0: -9.5935e+01 -5.1217e+02  9e+01  9e-02  2e+00  1e+00\n",
            " 1: -1.0971e+02 -3.3163e+02  6e+01  5e-02  1e+00  2e+00\n",
            " 2: -1.2497e+02 -2.6385e+02  5e+01  3e-02  6e-01  2e+00\n",
            " 3: -1.6339e+02 -1.8688e+02  2e+01  5e-03  1e-01  1e+00\n",
            " 4: -1.6869e+02 -1.6896e+02  2e-01  6e-05  1e-03  2e-02\n",
            " 5: -1.6875e+02 -1.6875e+02  2e-03  6e-07  1e-05  2e-04\n",
            " 6: -1.6875e+02 -1.6875e+02  2e-05  6e-09  1e-07  2e-06\n",
            " 7: -1.6875e+02 -1.6875e+02  2e-07  6e-11  1e-09  2e-08\n",
            "Optimal solution found.\n",
            "[ 6.91e-10]\n",
            "[ 1.12e+01]\n",
            "\n",
            "168.74999994212206\n",
            "[[168.74999994]]\n"
          ],
          "name": "stdout"
        }
      ]
    },
    {
      "metadata": {
        "id": "Z8cLVKfaSji3",
        "colab_type": "text"
      },
      "cell_type": "markdown",
      "source": [
        "#### *Solution 2*"
      ]
    },
    {
      "metadata": {
        "id": "NAbjjJBuOziP",
        "colab_type": "code",
        "colab": {
          "autoexec": {
            "startup": false,
            "wait_interval": 0
          },
          "base_uri": "https://localhost:8080/",
          "height": 68
        },
        "outputId": "cdbf9fb5-917d-403f-add3-ebc54b0b1887",
        "executionInfo": {
          "status": "ok",
          "timestamp": 1525155404379,
          "user_tz": 420,
          "elapsed": 489,
          "user": {
            "displayName": "Zimei Yang",
            "photoUrl": "https://lh3.googleusercontent.com/a/default-user=s128",
            "userId": "103997432320800495390"
          }
        }
      },
      "cell_type": "code",
      "source": [
        "# try to solve with CVXPY\n",
        "# plant A\n",
        "xa1=cvx.Int()\n",
        "xa2=cvx.Int()\n",
        "\n",
        "#objective\n",
        "objective = cvx.Maximize(10*xa1+15*xa2)\n",
        "\n",
        "#constraint\n",
        "c1 = 4*xa1+4*xa2<=75\n",
        "c2 = 4*xa1+2*xa2<=80\n",
        "c3 = 2*xa1+5*xa2<=60\n",
        "c4 = 0 <= xa1\n",
        "c5 = 0 <= xa2\n",
        "con = [c1,c2,c3,c4,c5]\n",
        "\n",
        "#solving\n",
        "prob = cvx.Problem(objective, con)\n",
        "result = prob.solve()\n",
        "\n",
        "print (\"PLant A should produce\", xa1.value, \"units of standard product\")\n",
        "print (\"Plant A should produce\", xa2.value, \"units of deluxe product\")\n",
        "print (\"The maxmized profit of Plant A is\", \"$\", objective.value)"
      ],
      "execution_count": 33,
      "outputs": [
        {
          "output_type": "stream",
          "text": [
            "PLant A should produce 10.000000000492808 units of standard product\n",
            "Plant A should produce 8.000000003148305 units of deluxe product\n",
            "The maxmized profit of Plant A is $ 220.00000005215264\n"
          ],
          "name": "stdout"
        }
      ]
    },
    {
      "metadata": {
        "id": "OpCw0kPrQlmc",
        "colab_type": "code",
        "colab": {
          "autoexec": {
            "startup": false,
            "wait_interval": 0
          },
          "base_uri": "https://localhost:8080/",
          "height": 68
        },
        "outputId": "98c4f77a-b0d2-46e9-b8f6-a5111299f22a",
        "executionInfo": {
          "status": "ok",
          "timestamp": 1525155408380,
          "user_tz": 420,
          "elapsed": 651,
          "user": {
            "displayName": "Zimei Yang",
            "photoUrl": "https://lh3.googleusercontent.com/a/default-user=s128",
            "userId": "103997432320800495390"
          }
        }
      },
      "cell_type": "code",
      "source": [
        "# plant B\n",
        "xb1=cvx.Int()\n",
        "xb2=cvx.Int()\n",
        "\n",
        "#objective\n",
        "objective = cvx.Maximize(10*xb1+15*xb2)\n",
        "\n",
        "#constraint\n",
        "c1 = 4*xb1+4*xb2<=45\n",
        "c2 = 5*xb1+3*xb2<=60\n",
        "c3 = 5*xb1+6*xb2<=75\n",
        "c4 = 0 <= xb1\n",
        "c5 = 0 <= xb2\n",
        "con = [c1,c2,c3,c4,c5]\n",
        "\n",
        "#solving\n",
        "prob = cvx.Problem(objective, con)\n",
        "result = prob.solve()\n",
        "\n",
        "print (\"PLant B should produce\", xb1.value, \"units of standard product\")\n",
        "print (\"Plant B should produce\", xb2.value, \"units of deluxe product\")\n",
        "print (\"The maxmized profit of Plant B is\", \"$\", objective.value)"
      ],
      "execution_count": 34,
      "outputs": [
        {
          "output_type": "stream",
          "text": [
            "PLant B should produce 2.9128592265709495e-09 units of standard product\n",
            "Plant B should produce 11.000000002512744 units of deluxe product\n",
            "The maxmized profit of Plant B is $ 165.00000006681975\n"
          ],
          "name": "stdout"
        }
      ]
    },
    {
      "metadata": {
        "id": "-t0Wg2BoSnPL",
        "colab_type": "text"
      },
      "cell_type": "markdown",
      "source": [
        "#### *Solution 3*"
      ]
    },
    {
      "metadata": {
        "id": "aSm1PgTLSpQ6",
        "colab_type": "code",
        "colab": {
          "autoexec": {
            "startup": false,
            "wait_interval": 0
          },
          "base_uri": "https://localhost:8080/",
          "height": 68
        },
        "outputId": "eba63cee-ab77-4165-d277-5aa41b8bcf32",
        "executionInfo": {
          "status": "ok",
          "timestamp": 1525155564593,
          "user_tz": 420,
          "elapsed": 757,
          "user": {
            "displayName": "Zimei Yang",
            "photoUrl": "https://lh3.googleusercontent.com/a/default-user=s128",
            "userId": "103997432320800495390"
          }
        }
      },
      "cell_type": "code",
      "source": [
        "# try to solve withg CVXOPT glpk \n",
        "from cvxopt import glpk\n",
        "\n",
        "# Plant A\n",
        "c=cvxopt.matrix([ -10.0, -15.0],tc='d')\n",
        "A1=cvxopt.matrix([ [4.0, 4.0, 2.0,-1.0,0.0], [4.0, 2.0, 5.0, 0.0,-1.0] ],tc='d')\n",
        "A2=cvxopt.matrix([ 75.0, 80.0, 60.0, 0.0, 0.0 ],tc='d')\n",
        "(status, Ax)=cvxopt.glpk.ilp(c,A1,A2,I=set([0,1]))\n",
        "profitA= -sum(c.T*Ax)\n",
        "\n",
        "print (\"PLant A should produce\", Ax[0], \"units of standard product\")\n",
        "print (\"Plant A should produce\", Ax[1], \"units of deluxe product\")\n",
        "print (\"The maxmized profit of Plant A is\", \"$\", profitA)"
      ],
      "execution_count": 37,
      "outputs": [
        {
          "output_type": "stream",
          "text": [
            "PLant A should produce 10.0 units of standard product\n",
            "Plant A should produce 8.0 units of deluxe product\n",
            "The maxmized profit of Plant A is $ 220.0\n"
          ],
          "name": "stdout"
        }
      ]
    },
    {
      "metadata": {
        "id": "ipIqpHgdUMZr",
        "colab_type": "code",
        "colab": {
          "autoexec": {
            "startup": false,
            "wait_interval": 0
          },
          "base_uri": "https://localhost:8080/",
          "height": 68
        },
        "outputId": "3c167627-27de-4a49-af81-ec510b3f5d42",
        "executionInfo": {
          "status": "ok",
          "timestamp": 1525155838234,
          "user_tz": 420,
          "elapsed": 1108,
          "user": {
            "displayName": "Zimei Yang",
            "photoUrl": "https://lh3.googleusercontent.com/a/default-user=s128",
            "userId": "103997432320800495390"
          }
        }
      },
      "cell_type": "code",
      "source": [
        "# Plant B\n",
        "c=cvxopt.matrix([ -10.0, -15.0],tc='d')\n",
        "B1=cvxopt.matrix([ [4.0, 4.0, 2.0,-1.0,0.0], [4.0, 2.0, 5.0, 0.0,-1.0] ],tc='d')\n",
        "B2=cvxopt.matrix([ 45.0, 60.0, 75.0, 0.0, 0.0 ],tc='d')\n",
        "(status, Bx)=cvxopt.glpk.ilp(c,B1,B2,I=set([0,1]))\n",
        "profitB= -sum(c.T*Bx)\n",
        "\n",
        "print (\"PLant B should produce\", Bx[0], \"units of standard product\")\n",
        "print (\"Plant B should produce\", Bx[1], \"units of deluxe product\")\n",
        "print (\"The maxmized profit of Plant B is\", \"$\", profitB)"
      ],
      "execution_count": 40,
      "outputs": [
        {
          "output_type": "stream",
          "text": [
            "PLant B should produce 0.0 units of standard product\n",
            "Plant B should produce 11.0 units of deluxe product\n",
            "The maxmized profit of Plant B is $ 165.0\n"
          ],
          "name": "stdout"
        }
      ]
    },
    {
      "metadata": {
        "id": "FWPd7uaJX0En",
        "colab_type": "text"
      },
      "cell_type": "markdown",
      "source": [
        "### 3.\tNow, write the optimization model for the joint optimization of Plant A and B, and provide the optimal solution and profit levels. \n",
        "\n",
        "\n",
        "---\n",
        "\n",
        "\n",
        "\n",
        "**Objective Functions:** \n",
        "\n",
        "      max 10xa1+15xa2+10xb1+15xb2\n",
        "\n",
        "\n",
        "**Constraints:** \n",
        "\n",
        "*Total Raw Material 120kg; Total Grinding: 80+60=140 ; Total Polishing: 60+75=135*\n",
        "      \n",
        "      4xa1+4xa2+4xb1+4b2)<=120\n",
        "      \n",
        "      4xa1+2xa2+5xb1+3xb2<=140     \n",
        "       \n",
        "      2xa1+5xa2+5xb1+6xb2<=135\n",
        "      \n",
        "      xa1,xa2,xb1,xb2>=0\n",
        "\n",
        "\n",
        "\n",
        "---\n",
        "\n",
        "The answer is:\n",
        "\n",
        "PLant A should produce 5.0 units of standard product\n",
        "\n",
        "Plant A should produce 25.0 units of deluxe product\n",
        "\n",
        "PLant B should produce -0.0 units of standard product\n",
        "\n",
        "Plant B should produce -0.0 units of deluxe product\n",
        "\n",
        "The maxmized profit of Plant A and Plant B is $ 425.0"
      ]
    },
    {
      "metadata": {
        "id": "FR6T7ksdXzRB",
        "colab_type": "code",
        "colab": {
          "autoexec": {
            "startup": false,
            "wait_interval": 0
          },
          "base_uri": "https://localhost:8080/",
          "height": 102
        },
        "outputId": "66ac1d31-7ad6-4771-9ca6-25ff015f26f8",
        "executionInfo": {
          "status": "ok",
          "timestamp": 1525156845571,
          "user_tz": 420,
          "elapsed": 743,
          "user": {
            "displayName": "Zimei Yang",
            "photoUrl": "https://lh3.googleusercontent.com/a/default-user=s128",
            "userId": "103997432320800495390"
          }
        }
      },
      "cell_type": "code",
      "source": [
        "# Plant A + Plant B Joint Optimization\n",
        "c=cvxopt.matrix([ -10.0, -15.0, -10.0, -15.0],tc='d')\n",
        "\n",
        "A=cvxopt.matrix([ [4.0 ,2.0 ,4.0 ,-1.0 ,0.0, 0.0, 0.0], [ 2.0, 5.0 ,4.0 , 0.0, -1.0, 0.0, 0.0], \n",
        "                [5.0, 5.0, 4.0, 0.0, 0.0, -1.0, 0.0],[3.0, 6.0, 4.0, 0.0, 0.0, 0.0, -1.0]],tc='d')\n",
        "b=cvxopt.matrix([140.0, 135.0, 120.0, 0.0, 0.0, 0.0, 0.0 ],tc='d')\n",
        "(status, Jx)=cvxopt.glpk.ilp(c,A,b,I=set([0,1]))\n",
        "profitJ= -sum(c.T*Jx)\n",
        "\n",
        "print (\"PLant A should produce\", Jx[0], \"units of standard product\")\n",
        "print (\"Plant A should produce\", Jx[1], \"units of deluxe product\")\n",
        "print (\"PLant B should produce\", Jx[2], \"units of standard product\")\n",
        "print (\"Plant B should produce\", Jx[3], \"units of deluxe product\")\n",
        "print (\"The maxmized profit of Plant A and Plant B is\", \"$\", profitJ)"
      ],
      "execution_count": 45,
      "outputs": [
        {
          "output_type": "stream",
          "text": [
            "PLant A should produce 5.0 units of standard product\n",
            "Plant A should produce 25.0 units of deluxe product\n",
            "PLant B should produce -0.0 units of standard product\n",
            "Plant B should produce -0.0 units of deluxe product\n",
            "The maxmized profit of Plant A and Plant B is $ 425.0\n"
          ],
          "name": "stdout"
        }
      ]
    },
    {
      "metadata": {
        "id": "DgbXOyjVcClz",
        "colab_type": "text"
      },
      "cell_type": "markdown",
      "source": [
        "### 4.\tPlease comment on the results? How do they compare to the results obtained in Question 2.\n",
        "\n",
        "\n",
        "---\n",
        "In Question 2, we calculated the maximized profit of plant A and plant B individually. When plant A produces 10 units of standard product and 8 units of deluxe product, it can achieve a maximized profit of 220 dollars. When plant B produces 11units of deluxe product and does not produce any standard product, it can achieve a maximized profit of  165 dollars. Operating separately, plant A and plant together have a maximized profit of 220+165=385 dollars. In Question 3, we conducted a joint optimization of plant A and plant B. When the two plants combinedly plan their production, they can have a maximized profit of 425 dollars, with only plant A producing 5 units of standard product and 25 units of deluxe products.  We can see that, when we do a joint optimization, the total profit is higher than individually optimizing the profit of each plant."
      ]
    },
    {
      "metadata": {
        "id": "h3XZmfFUI9uq",
        "colab_type": "text"
      },
      "cell_type": "markdown",
      "source": [
        "### 5. In one paragraph, detail the recommendations you would provide to the CEO of the company to improve the firm’s operations?\n",
        "\n",
        "---\n",
        "\n",
        "My recommendation is to close down plant B and only make production at plant A. According to the joint optimization result, only when plant B doesn’t produce anything and leave all the raw materials for plant A to use its maximum processing capacity, can a joint maximized profit be achieved. Also, we know that plant B has older machines than plant A. Therefore, closing down plant B seems to be a reasonable choice to increase profit. "
      ]
    },
    {
      "metadata": {
        "id": "BZHCwjNseAH4",
        "colab_type": "text"
      },
      "cell_type": "markdown",
      "source": [
        "## 3.  Hotel La Quinta Motor Inns (LQM)\n",
        "### Background\n",
        "LQM is a middle-sized hotel chain that is considering expanding to more locations. LQM used data on 75 existing inn locations to build a linear regression model to predict  “Profitability”, computed at the operating margin, or earnings before interest and taxes divided by total revenue. They tried many independent variables and came up with the final model. All independent variables are significant and were normalized to have mean zero and standard deviation 1. \n",
        "\n",
        "     𝑃𝑟𝑜𝑓𝑖𝑡𝑎𝑏𝑖𝑙𝑖𝑡𝑦 = 39.05 − 5.41×𝑆𝑡𝑎𝑡𝑒 𝑃𝑜𝑝𝑢𝑙𝑎𝑡𝑖𝑜𝑛 𝑝𝑒𝑟 𝐼𝑛𝑛 + 5.86×𝑃𝑟𝑖𝑐𝑒 𝑜𝑓 𝑡ℎ𝑒 𝐼𝑛𝑛  \n",
        "                     − 3.09×𝑆𝑞𝑢𝑎𝑟𝑒 𝑅𝑜𝑜𝑡 𝑜𝑓 𝑡ℎ𝑒 𝑀𝑒𝑑𝑖𝑎𝑛 𝐼𝑛𝑐𝑜𝑚𝑒 𝑖𝑛 𝑡ℎ𝑒 𝑎𝑟𝑒𝑎  \n",
        "                     + 1.75×𝐶𝑜𝑙𝑙𝑒𝑔𝑒 𝑆𝑡𝑢𝑑𝑒𝑛𝑡𝑠 𝑖𝑛 𝑡ℎ𝑒 𝐴𝑟𝑒𝑎\n",
        "\n",
        "\n",
        "\n",
        "### 1. According to the regression equation given above, which variable positively affect Profitability? Which variable negatively affect Profitability? Does this intuitively make sense? Why?\n",
        "\n",
        "---\n",
        "\n",
        "\n",
        "\n",
        "\n"
      ]
    },
    {
      "metadata": {
        "id": "Z1xvZWV7gAiH",
        "colab_type": "text"
      },
      "cell_type": "markdown",
      "source": [
        "### 2. Using this regression equation, LQM created a spreadsheet model to predict profitability. LQM collected data for several locations in California, which is provided in the excel spreadsheet on Canvas “LQM”. Using this spreadsheet, compute the profitability for each hotel. Which one has the highest profitability? Which one has the lowest profitability?\n",
        "\n",
        "---\n",
        "\n",
        "The answer is:\n",
        "\n",
        "     Hotel No.2 in Fresno, CA has the highest profitability and hotel No.8 in Los Angeles, CA has the lowest profitability."
      ]
    },
    {
      "metadata": {
        "id": "ouB8BpZ7hA1K",
        "colab_type": "code",
        "colab": {
          "autoexec": {
            "startup": false,
            "wait_interval": 0
          },
          "base_uri": "https://localhost:8080/",
          "height": 122
        },
        "outputId": "7a3cc3f0-54c9-43a9-d25e-d11ac91a9c12",
        "executionInfo": {
          "status": "ok",
          "timestamp": 1525158265014,
          "user_tz": 420,
          "elapsed": 2897,
          "user": {
            "displayName": "Zimei Yang",
            "photoUrl": "https://lh3.googleusercontent.com/a/default-user=s128",
            "userId": "103997432320800495390"
          }
        }
      },
      "cell_type": "code",
      "source": [
        "!pip install xlrd"
      ],
      "execution_count": 49,
      "outputs": [
        {
          "output_type": "stream",
          "text": [
            "Collecting xlrd\n",
            "\u001b[?25l  Downloading https://files.pythonhosted.org/packages/07/e6/e95c4eec6221bfd8528bcc4ea252a850bffcc4be88ebc367e23a1a84b0bb/xlrd-1.1.0-py2.py3-none-any.whl (108kB)\n",
            "\u001b[K    100% |████████████████████████████████| 112kB 2.5MB/s \n",
            "\u001b[?25hInstalling collected packages: xlrd\n",
            "Successfully installed xlrd-1.1.0\n"
          ],
          "name": "stdout"
        }
      ]
    },
    {
      "metadata": {
        "id": "cKsFjktxf-8S",
        "colab_type": "code",
        "colab": {
          "autoexec": {
            "startup": false,
            "wait_interval": 0
          },
          "resources": {
            "http://localhost:8080/nbextensions/google.colab/files.js": {
              "data": "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",
              "ok": true,
              "headers": [
                [
                  "content-type",
                  "application/javascript"
                ]
              ],
              "status": 200,
              "status_text": ""
            }
          },
          "base_uri": "https://localhost:8080/",
          "height": 72
        },
        "outputId": "b013cbf6-ef9e-41bb-ec8f-d08a2cae19dd",
        "executionInfo": {
          "status": "ok",
          "timestamp": 1525158114120,
          "user_tz": 420,
          "elapsed": 17101,
          "user": {
            "displayName": "Zimei Yang",
            "photoUrl": "https://lh3.googleusercontent.com/a/default-user=s128",
            "userId": "103997432320800495390"
          }
        }
      },
      "cell_type": "code",
      "source": [
        "# import packages\n",
        "import pandas as pd\n",
        "from google.colab import files\n",
        "\n",
        "# upload the LQM data file to colab\n",
        "uploaded = files.upload()"
      ],
      "execution_count": 46,
      "outputs": [
        {
          "output_type": "display_data",
          "data": {
            "text/html": [
              "\n",
              "     <input type=\"file\" id=\"files-652e842a-3a0b-469c-b21c-8e4b6e3e01d7\" name=\"files[]\" multiple disabled />\n",
              "     <output id=\"result-652e842a-3a0b-469c-b21c-8e4b6e3e01d7\">\n",
              "      Upload widget is only available when the cell has been executed in the\n",
              "      current browser session. Please rerun this cell to enable.\n",
              "      </output>\n",
              "      <script src=\"/nbextensions/google.colab/files.js\"></script> "
            ],
            "text/plain": [
              "<IPython.core.display.HTML object>"
            ]
          },
          "metadata": {
            "tags": []
          }
        },
        {
          "output_type": "stream",
          "text": [
            "Saving LQM.xlsx to LQM.xlsx\n"
          ],
          "name": "stdout"
        }
      ]
    },
    {
      "metadata": {
        "id": "sGp14lSDggjv",
        "colab_type": "code",
        "colab": {
          "autoexec": {
            "startup": false,
            "wait_interval": 0
          },
          "base_uri": "https://localhost:8080/",
          "height": 289
        },
        "outputId": "f1ff2624-b87d-46c7-c247-93636536d95c",
        "executionInfo": {
          "status": "ok",
          "timestamp": 1525164589518,
          "user_tz": 420,
          "elapsed": 359,
          "user": {
            "displayName": "Zimei Yang",
            "photoUrl": "https://lh3.googleusercontent.com/a/default-user=s128",
            "userId": "103997432320800495390"
          }
        }
      },
      "cell_type": "code",
      "source": [
        "# read data into dataframe \n",
        "df=pd.read_excel('LQM.xlsx')\n",
        "df.head()"
      ],
      "execution_count": 101,
      "outputs": [
        {
          "output_type": "execute_result",
          "data": {
            "text/html": [
              "<div>\n",
              "<style scoped>\n",
              "    .dataframe tbody tr th:only-of-type {\n",
              "        vertical-align: middle;\n",
              "    }\n",
              "\n",
              "    .dataframe tbody tr th {\n",
              "        vertical-align: top;\n",
              "    }\n",
              "\n",
              "    .dataframe thead th {\n",
              "        text-align: right;\n",
              "    }\n",
              "</style>\n",
              "<table border=\"1\" class=\"dataframe\">\n",
              "  <thead>\n",
              "    <tr style=\"text-align: right;\">\n",
              "      <th></th>\n",
              "      <th>SELECTING PROFITABLE HOTELS</th>\n",
              "      <th>Unnamed: 1</th>\n",
              "      <th>Unnamed: 2</th>\n",
              "      <th>Unnamed: 3</th>\n",
              "      <th>Unnamed: 4</th>\n",
              "      <th>Unnamed: 5</th>\n",
              "      <th>Unnamed: 6</th>\n",
              "    </tr>\n",
              "  </thead>\n",
              "  <tbody>\n",
              "    <tr>\n",
              "      <th>0</th>\n",
              "      <td>NaN</td>\n",
              "      <td>NaN</td>\n",
              "      <td>NaN</td>\n",
              "      <td>NaN</td>\n",
              "      <td>NaN</td>\n",
              "      <td>NaN</td>\n",
              "      <td>NaN</td>\n",
              "    </tr>\n",
              "    <tr>\n",
              "      <th>1</th>\n",
              "      <td>Hotel</td>\n",
              "      <td>Location</td>\n",
              "      <td>Price</td>\n",
              "      <td>Price (normalized)</td>\n",
              "      <td>Square Root of Median Income (normalized)</td>\n",
              "      <td>College Students in Area (normalized)</td>\n",
              "      <td>State Population Per Inn (normalized)</td>\n",
              "    </tr>\n",
              "    <tr>\n",
              "      <th>2</th>\n",
              "      <td>1</td>\n",
              "      <td>Eureka, California</td>\n",
              "      <td>2925000</td>\n",
              "      <td>-0.301823</td>\n",
              "      <td>-0.81278</td>\n",
              "      <td>-0.536413</td>\n",
              "      <td>-0.995987</td>\n",
              "    </tr>\n",
              "    <tr>\n",
              "      <th>3</th>\n",
              "      <td>2</td>\n",
              "      <td>Fresno, California</td>\n",
              "      <td>10000000</td>\n",
              "      <td>1.69908</td>\n",
              "      <td>-0.408199</td>\n",
              "      <td>0.311669</td>\n",
              "      <td>-0.474279</td>\n",
              "    </tr>\n",
              "    <tr>\n",
              "      <th>4</th>\n",
              "      <td>3</td>\n",
              "      <td>Fresno, California</td>\n",
              "      <td>3750000</td>\n",
              "      <td>-0.0685029</td>\n",
              "      <td>-0.408199</td>\n",
              "      <td>0.311669</td>\n",
              "      <td>-0.474279</td>\n",
              "    </tr>\n",
              "  </tbody>\n",
              "</table>\n",
              "</div>"
            ],
            "text/plain": [
              "  SELECTING PROFITABLE HOTELS           Unnamed: 1 Unnamed: 2  \\\n",
              "0                          NaN                 NaN        NaN   \n",
              "1                        Hotel            Location      Price   \n",
              "2                            1  Eureka, California    2925000   \n",
              "3                            2  Fresno, California   10000000   \n",
              "4                            3  Fresno, California    3750000   \n",
              "\n",
              "           Unnamed: 3                                 Unnamed: 4  \\\n",
              "0                 NaN                                        NaN   \n",
              "1  Price (normalized)  Square Root of Median Income (normalized)   \n",
              "2           -0.301823                                   -0.81278   \n",
              "3             1.69908                                  -0.408199   \n",
              "4          -0.0685029                                  -0.408199   \n",
              "\n",
              "                              Unnamed: 5  \\\n",
              "0                                    NaN   \n",
              "1  College Students in Area (normalized)   \n",
              "2                              -0.536413   \n",
              "3                               0.311669   \n",
              "4                               0.311669   \n",
              "\n",
              "                              Unnamed: 6  \n",
              "0                                    NaN  \n",
              "1  State Population Per Inn (normalized)  \n",
              "2                              -0.995987  \n",
              "3                              -0.474279  \n",
              "4                              -0.474279  "
            ]
          },
          "metadata": {
            "tags": []
          },
          "execution_count": 101
        }
      ]
    },
    {
      "metadata": {
        "id": "lK0mqb6EmYyW",
        "colab_type": "code",
        "colab": {
          "autoexec": {
            "startup": false,
            "wait_interval": 0
          }
        }
      },
      "cell_type": "code",
      "source": [
        "# rename columns with features needed in the model\n",
        "df = df.rename(columns={'SELECTING PROFITABLE HOTELS ':'hotel_id','Unnamed: 1': 'location','Unnamed: 3': 'price', \n",
        "                        'Unnamed: 4': 'income', 'Unnamed: 5': 'students', 'Unnamed: 6': 'population','Unnamed: 2':'price_before_normalized' })"
      ],
      "execution_count": 0,
      "outputs": []
    },
    {
      "metadata": {
        "id": "4IqxUFwihUdt",
        "colab_type": "code",
        "colab": {
          "autoexec": {
            "startup": false,
            "wait_interval": 0
          },
          "base_uri": "https://localhost:8080/",
          "height": 204
        },
        "outputId": "745e527c-8d63-43bb-979e-91bb79c553ab",
        "executionInfo": {
          "status": "ok",
          "timestamp": 1525164669244,
          "user_tz": 420,
          "elapsed": 635,
          "user": {
            "displayName": "Zimei Yang",
            "photoUrl": "https://lh3.googleusercontent.com/a/default-user=s128",
            "userId": "103997432320800495390"
          }
        }
      },
      "cell_type": "code",
      "source": [
        "# drop unnecessary rows and columns\n",
        "df=df.drop([0,1], axis=0)\n",
        "df.head()"
      ],
      "execution_count": 103,
      "outputs": [
        {
          "output_type": "execute_result",
          "data": {
            "text/html": [
              "<div>\n",
              "<style scoped>\n",
              "    .dataframe tbody tr th:only-of-type {\n",
              "        vertical-align: middle;\n",
              "    }\n",
              "\n",
              "    .dataframe tbody tr th {\n",
              "        vertical-align: top;\n",
              "    }\n",
              "\n",
              "    .dataframe thead th {\n",
              "        text-align: right;\n",
              "    }\n",
              "</style>\n",
              "<table border=\"1\" class=\"dataframe\">\n",
              "  <thead>\n",
              "    <tr style=\"text-align: right;\">\n",
              "      <th></th>\n",
              "      <th>hotel_id</th>\n",
              "      <th>location</th>\n",
              "      <th>price_before_normalized</th>\n",
              "      <th>price</th>\n",
              "      <th>income</th>\n",
              "      <th>students</th>\n",
              "      <th>population</th>\n",
              "    </tr>\n",
              "  </thead>\n",
              "  <tbody>\n",
              "    <tr>\n",
              "      <th>2</th>\n",
              "      <td>1</td>\n",
              "      <td>Eureka, California</td>\n",
              "      <td>2925000</td>\n",
              "      <td>-0.301823</td>\n",
              "      <td>-0.81278</td>\n",
              "      <td>-0.536413</td>\n",
              "      <td>-0.995987</td>\n",
              "    </tr>\n",
              "    <tr>\n",
              "      <th>3</th>\n",
              "      <td>2</td>\n",
              "      <td>Fresno, California</td>\n",
              "      <td>10000000</td>\n",
              "      <td>1.69908</td>\n",
              "      <td>-0.408199</td>\n",
              "      <td>0.311669</td>\n",
              "      <td>-0.474279</td>\n",
              "    </tr>\n",
              "    <tr>\n",
              "      <th>4</th>\n",
              "      <td>3</td>\n",
              "      <td>Fresno, California</td>\n",
              "      <td>3750000</td>\n",
              "      <td>-0.0685029</td>\n",
              "      <td>-0.408199</td>\n",
              "      <td>0.311669</td>\n",
              "      <td>-0.474279</td>\n",
              "    </tr>\n",
              "    <tr>\n",
              "      <th>5</th>\n",
              "      <td>4</td>\n",
              "      <td>Fresno, California</td>\n",
              "      <td>3500000</td>\n",
              "      <td>-0.139206</td>\n",
              "      <td>-0.408199</td>\n",
              "      <td>0.311669</td>\n",
              "      <td>-0.474279</td>\n",
              "    </tr>\n",
              "    <tr>\n",
              "      <th>6</th>\n",
              "      <td>5</td>\n",
              "      <td>Fresno, California</td>\n",
              "      <td>325000</td>\n",
              "      <td>-1.03714</td>\n",
              "      <td>-0.408199</td>\n",
              "      <td>0.311669</td>\n",
              "      <td>-0.474279</td>\n",
              "    </tr>\n",
              "  </tbody>\n",
              "</table>\n",
              "</div>"
            ],
            "text/plain": [
              "  hotel_id            location price_before_normalized      price    income  \\\n",
              "2        1  Eureka, California                 2925000  -0.301823  -0.81278   \n",
              "3        2  Fresno, California                10000000    1.69908 -0.408199   \n",
              "4        3  Fresno, California                 3750000 -0.0685029 -0.408199   \n",
              "5        4  Fresno, California                 3500000  -0.139206 -0.408199   \n",
              "6        5  Fresno, California                  325000   -1.03714 -0.408199   \n",
              "\n",
              "   students population  \n",
              "2 -0.536413  -0.995987  \n",
              "3  0.311669  -0.474279  \n",
              "4  0.311669  -0.474279  \n",
              "5  0.311669  -0.474279  \n",
              "6  0.311669  -0.474279  "
            ]
          },
          "metadata": {
            "tags": []
          },
          "execution_count": 103
        }
      ]
    },
    {
      "metadata": {
        "id": "fMf5aYk_i-uv",
        "colab_type": "code",
        "colab": {
          "autoexec": {
            "startup": false,
            "wait_interval": 0
          },
          "base_uri": "https://localhost:8080/",
          "height": 543
        },
        "outputId": "8860be37-b063-4571-dde1-25b0068bf2d7",
        "executionInfo": {
          "status": "ok",
          "timestamp": 1525164692150,
          "user_tz": 420,
          "elapsed": 738,
          "user": {
            "displayName": "Zimei Yang",
            "photoUrl": "https://lh3.googleusercontent.com/a/default-user=s128",
            "userId": "103997432320800495390"
          }
        }
      },
      "cell_type": "code",
      "source": [
        "# Profit = 39.05 − 5.41×𝑆𝑡𝑎𝑡𝑒𝑃𝑜𝑝𝑢𝑙𝑎𝑡𝑖𝑜𝑛𝑝𝑒𝑟𝐼𝑛𝑛 + 5.86×𝑃𝑟𝑖𝑐𝑒𝑜𝑓𝑡h𝑒𝐼𝑛𝑛 − 3.09×𝑆𝑞𝑢𝑎𝑟𝑒𝑅𝑜𝑜𝑡𝑜𝑓𝑡h𝑒𝑀𝑒𝑑𝑖𝑎𝑛𝐼𝑛𝑐𝑜𝑚𝑒𝑖𝑛𝑡h𝑒𝑎𝑟𝑒𝑎 + 1.75×𝐶𝑜𝑙𝑙𝑒𝑔𝑒𝑆𝑡𝑢𝑑𝑒𝑛𝑡𝑠𝑖𝑛𝑡h𝑒𝐴𝑟𝑒𝑎\n",
        "# calculate profit of each hotel\n",
        "df_profit = df.copy()\n",
        "profit = 39.05-5.41*df.population+5.86*df.price-3.09*df.income+1.75*df.students\n",
        "df_profit['normalized_profit'] = profit\n",
        "\n",
        "# sort hotel by profit\n",
        "df_profit.sort_values('normalized_profit',ascending=False)"
      ],
      "execution_count": 105,
      "outputs": [
        {
          "output_type": "execute_result",
          "data": {
            "text/html": [
              "<div>\n",
              "<style scoped>\n",
              "    .dataframe tbody tr th:only-of-type {\n",
              "        vertical-align: middle;\n",
              "    }\n",
              "\n",
              "    .dataframe tbody tr th {\n",
              "        vertical-align: top;\n",
              "    }\n",
              "\n",
              "    .dataframe thead th {\n",
              "        text-align: right;\n",
              "    }\n",
              "</style>\n",
              "<table border=\"1\" class=\"dataframe\">\n",
              "  <thead>\n",
              "    <tr style=\"text-align: right;\">\n",
              "      <th></th>\n",
              "      <th>hotel_id</th>\n",
              "      <th>location</th>\n",
              "      <th>price_before_normalized</th>\n",
              "      <th>price</th>\n",
              "      <th>income</th>\n",
              "      <th>students</th>\n",
              "      <th>population</th>\n",
              "      <th>normalized_profit</th>\n",
              "    </tr>\n",
              "  </thead>\n",
              "  <tbody>\n",
              "    <tr>\n",
              "      <th>3</th>\n",
              "      <td>2</td>\n",
              "      <td>Fresno, California</td>\n",
              "      <td>10000000</td>\n",
              "      <td>1.69908</td>\n",
              "      <td>-0.408199</td>\n",
              "      <td>0.311669</td>\n",
              "      <td>-0.474279</td>\n",
              "      <td>53.3792</td>\n",
              "    </tr>\n",
              "    <tr>\n",
              "      <th>7</th>\n",
              "      <td>6</td>\n",
              "      <td>Long Beach, California</td>\n",
              "      <td>8950000</td>\n",
              "      <td>1.40212</td>\n",
              "      <td>0.657845</td>\n",
              "      <td>0.483711</td>\n",
              "      <td>-0.557278</td>\n",
              "      <td>49.0951</td>\n",
              "    </tr>\n",
              "    <tr>\n",
              "      <th>2</th>\n",
              "      <td>1</td>\n",
              "      <td>Eureka, California</td>\n",
              "      <td>2925000</td>\n",
              "      <td>-0.301823</td>\n",
              "      <td>-0.81278</td>\n",
              "      <td>-0.536413</td>\n",
              "      <td>-0.995987</td>\n",
              "      <td>44.2424</td>\n",
              "    </tr>\n",
              "    <tr>\n",
              "      <th>4</th>\n",
              "      <td>3</td>\n",
              "      <td>Fresno, California</td>\n",
              "      <td>3750000</td>\n",
              "      <td>-0.0685029</td>\n",
              "      <td>-0.408199</td>\n",
              "      <td>0.311669</td>\n",
              "      <td>-0.474279</td>\n",
              "      <td>43.0212</td>\n",
              "    </tr>\n",
              "    <tr>\n",
              "      <th>5</th>\n",
              "      <td>4</td>\n",
              "      <td>Fresno, California</td>\n",
              "      <td>3500000</td>\n",
              "      <td>-0.139206</td>\n",
              "      <td>-0.408199</td>\n",
              "      <td>0.311669</td>\n",
              "      <td>-0.474279</td>\n",
              "      <td>42.6069</td>\n",
              "    </tr>\n",
              "    <tr>\n",
              "      <th>15</th>\n",
              "      <td>14</td>\n",
              "      <td>South Lake Tahoe, California</td>\n",
              "      <td>3750000</td>\n",
              "      <td>-0.0685029</td>\n",
              "      <td>-0.791006</td>\n",
              "      <td>-0.594905</td>\n",
              "      <td>-0.426851</td>\n",
              "      <td>42.361</td>\n",
              "    </tr>\n",
              "    <tr>\n",
              "      <th>13</th>\n",
              "      <td>12</td>\n",
              "      <td>South Lake Tahoe, California</td>\n",
              "      <td>2500000</td>\n",
              "      <td>-0.422019</td>\n",
              "      <td>-0.791006</td>\n",
              "      <td>-0.594905</td>\n",
              "      <td>-0.426851</td>\n",
              "      <td>40.2894</td>\n",
              "    </tr>\n",
              "    <tr>\n",
              "      <th>14</th>\n",
              "      <td>13</td>\n",
              "      <td>South Lake Tahoe, California</td>\n",
              "      <td>1975000</td>\n",
              "      <td>-0.570495</td>\n",
              "      <td>-0.791006</td>\n",
              "      <td>-0.594905</td>\n",
              "      <td>-0.426851</td>\n",
              "      <td>39.4193</td>\n",
              "    </tr>\n",
              "    <tr>\n",
              "      <th>11</th>\n",
              "      <td>10</td>\n",
              "      <td>South Lake Tahoe, California</td>\n",
              "      <td>1650000</td>\n",
              "      <td>-0.662409</td>\n",
              "      <td>-0.791006</td>\n",
              "      <td>-0.594905</td>\n",
              "      <td>-0.426851</td>\n",
              "      <td>38.8807</td>\n",
              "    </tr>\n",
              "    <tr>\n",
              "      <th>16</th>\n",
              "      <td>15</td>\n",
              "      <td>South Lake Tahoe, California</td>\n",
              "      <td>1475000</td>\n",
              "      <td>-0.711902</td>\n",
              "      <td>-0.791006</td>\n",
              "      <td>-0.594905</td>\n",
              "      <td>-0.426851</td>\n",
              "      <td>38.5906</td>\n",
              "    </tr>\n",
              "    <tr>\n",
              "      <th>12</th>\n",
              "      <td>11</td>\n",
              "      <td>South Lake Tahoe, California</td>\n",
              "      <td>1125000</td>\n",
              "      <td>-0.810886</td>\n",
              "      <td>-0.791006</td>\n",
              "      <td>-0.594905</td>\n",
              "      <td>-0.426851</td>\n",
              "      <td>38.0106</td>\n",
              "    </tr>\n",
              "    <tr>\n",
              "      <th>17</th>\n",
              "      <td>16</td>\n",
              "      <td>South Lake Tahoe, California</td>\n",
              "      <td>750000</td>\n",
              "      <td>-0.916941</td>\n",
              "      <td>-0.791006</td>\n",
              "      <td>-0.594905</td>\n",
              "      <td>-0.426851</td>\n",
              "      <td>37.3891</td>\n",
              "    </tr>\n",
              "    <tr>\n",
              "      <th>6</th>\n",
              "      <td>5</td>\n",
              "      <td>Fresno, California</td>\n",
              "      <td>325000</td>\n",
              "      <td>-1.03714</td>\n",
              "      <td>-0.408199</td>\n",
              "      <td>0.311669</td>\n",
              "      <td>-0.474279</td>\n",
              "      <td>37.345</td>\n",
              "    </tr>\n",
              "    <tr>\n",
              "      <th>10</th>\n",
              "      <td>9</td>\n",
              "      <td>Los Angeles, California</td>\n",
              "      <td>4900000</td>\n",
              "      <td>0.256732</td>\n",
              "      <td>0.167686</td>\n",
              "      <td>3.10621</td>\n",
              "      <td>3.10653</td>\n",
              "      <td>28.6658</td>\n",
              "    </tr>\n",
              "    <tr>\n",
              "      <th>8</th>\n",
              "      <td>7</td>\n",
              "      <td>Los Angeles, California</td>\n",
              "      <td>1950000</td>\n",
              "      <td>-0.577566</td>\n",
              "      <td>0.167686</td>\n",
              "      <td>3.10621</td>\n",
              "      <td>3.10653</td>\n",
              "      <td>23.7769</td>\n",
              "    </tr>\n",
              "    <tr>\n",
              "      <th>9</th>\n",
              "      <td>8</td>\n",
              "      <td>Los Angeles, California</td>\n",
              "      <td>1750000</td>\n",
              "      <td>-0.634128</td>\n",
              "      <td>0.167686</td>\n",
              "      <td>3.10621</td>\n",
              "      <td>3.10653</td>\n",
              "      <td>23.4454</td>\n",
              "    </tr>\n",
              "  </tbody>\n",
              "</table>\n",
              "</div>"
            ],
            "text/plain": [
              "   hotel_id                      location price_before_normalized      price  \\\n",
              "3         2            Fresno, California                10000000    1.69908   \n",
              "7         6        Long Beach, California                 8950000    1.40212   \n",
              "2         1            Eureka, California                 2925000  -0.301823   \n",
              "4         3            Fresno, California                 3750000 -0.0685029   \n",
              "5         4            Fresno, California                 3500000  -0.139206   \n",
              "15       14  South Lake Tahoe, California                 3750000 -0.0685029   \n",
              "13       12  South Lake Tahoe, California                 2500000  -0.422019   \n",
              "14       13  South Lake Tahoe, California                 1975000  -0.570495   \n",
              "11       10  South Lake Tahoe, California                 1650000  -0.662409   \n",
              "16       15  South Lake Tahoe, California                 1475000  -0.711902   \n",
              "12       11  South Lake Tahoe, California                 1125000  -0.810886   \n",
              "17       16  South Lake Tahoe, California                  750000  -0.916941   \n",
              "6         5            Fresno, California                  325000   -1.03714   \n",
              "10        9       Los Angeles, California                 4900000   0.256732   \n",
              "8         7       Los Angeles, California                 1950000  -0.577566   \n",
              "9         8       Los Angeles, California                 1750000  -0.634128   \n",
              "\n",
              "      income  students population normalized_profit  \n",
              "3  -0.408199  0.311669  -0.474279           53.3792  \n",
              "7   0.657845  0.483711  -0.557278           49.0951  \n",
              "2   -0.81278 -0.536413  -0.995987           44.2424  \n",
              "4  -0.408199  0.311669  -0.474279           43.0212  \n",
              "5  -0.408199  0.311669  -0.474279           42.6069  \n",
              "15 -0.791006 -0.594905  -0.426851            42.361  \n",
              "13 -0.791006 -0.594905  -0.426851           40.2894  \n",
              "14 -0.791006 -0.594905  -0.426851           39.4193  \n",
              "11 -0.791006 -0.594905  -0.426851           38.8807  \n",
              "16 -0.791006 -0.594905  -0.426851           38.5906  \n",
              "12 -0.791006 -0.594905  -0.426851           38.0106  \n",
              "17 -0.791006 -0.594905  -0.426851           37.3891  \n",
              "6  -0.408199  0.311669  -0.474279            37.345  \n",
              "10  0.167686   3.10621    3.10653           28.6658  \n",
              "8   0.167686   3.10621    3.10653           23.7769  \n",
              "9   0.167686   3.10621    3.10653           23.4454  "
            ]
          },
          "metadata": {
            "tags": []
          },
          "execution_count": 105
        }
      ]
    },
    {
      "metadata": {
        "id": "O-T8ZtSEqeOn",
        "colab_type": "text"
      },
      "cell_type": "markdown",
      "source": [
        "### 3. LQM has a budget of 10 million to spend on hotels. Suppose we used a “greedy” approach where we selected the most profitable hotels until we ran out of budget. So we would start by the most profitable, and then if we had enough budget left, we would buy the hotel we predict to be the second most profitable, and so on.\n",
        "\n",
        "\n",
        "---\n",
        "\n",
        "\n",
        "#### a. Describe what we would do with this approach, i.e., which hotels would we purchase? \n",
        "\n",
        "With the greedy approach, we will purchase hotels starting from the top of list and move downwards. When we have 10 million dollars, we can purchase the top 1 hotel on the list, Hotel No.2 in Fresno, CA.\n",
        "\n",
        "#### b. What would our total predicted profitability be? (This is the sum of the predicted profitability of all hotels we purchase.)\n",
        "\n",
        "The predicted profitability(before normalization) is: \n",
        "\n",
        "39.05 - 5.41*-0.474279 + 5.86*10000000 - 3.09*-0.408199 + 1.75*0.311669 = $58600043.42260505\n",
        "\n",
        "The predicted profitability(with normalization) is 53.3792\n",
        "\n",
        "#### c.If we are trying to maximize our total predicted profitability, is this a good approach? How about if we were trying to maximize the average predicted profitability of the hotels we select? How about if we had a budget of 20 million instead of 10 million?\n",
        "\n",
        "It's not a approach to maximize the total predicted profitability, because the total profitability of a few hotels with lower profitability might be higher than a single hotel even when it has the highest profitability. Trying to maximize the average predicted profitability of the hotels we select is a more reasonable approach in this case.\n",
        "When our budget increase to 20million, we can try out various combinations of the the two approach to see with which combination it works the best. \n"
      ]
    },
    {
      "metadata": {
        "id": "H1P2TdDPu1FG",
        "colab_type": "text"
      },
      "cell_type": "markdown",
      "source": [
        "### 4. Now, build an optimization model to select hotels given the 10 million budget. \n",
        "\n",
        "---\n",
        "\n",
        "\n",
        "#### a. Write out the optimization problem. Make sure to detail the decision variables, the objective function and the constraints.\n",
        "\n",
        "**Decision Variables:** \n",
        "\n",
        "Let n=1,2,...,16 reperesents the 16 different hotels, and binary varible Xn represents the choice of buying a hotel ----when Xn = 1, it means LQM should buy this hotel; when Xn = 0, it means LQM shoud not buy the hotel.\n",
        "\n",
        "**Objective Function:** \n",
        "\n",
        "To maximize profitability of selected hotels\n",
        "\n",
        "\\begin{equation}\n",
        "\\text{max}\\quad \\sum_{n=1}^{16} profitability_{n}\\times x_{n}\n",
        "\\end{equation}\n",
        "\n",
        "**Constraints**: \n",
        "\n",
        "A budget of 10 million dollars\n",
        "\n",
        "\\begin{equation}\n",
        "\\quad \\sum_{n=1}^{16}  price_{n}\\times x_{n}\\leq 10,000,000\\\\\n",
        "\\end{equation}\n",
        "\n",
        "#### b. What is the optimal solution? Give the values of the decision variables and the optimal objective function value.\n",
        "\n",
        "In order to maximize the total predicted profitability, we should purchase hotel No.5, No.10, No.11, No.12, No.13, No.15, No.16.\n",
        "\n",
        "The optimal objective function value is 269.9246813795313.\n",
        "\n",
        "\n",
        "#### c. Does the optimal solution make sense intuitively? How does it compared to the greedy solution?\n",
        "Intuitively, the optimal solution makes sense to me. Comparing to the greedy solution's total predicted profitability of 53.3792, this approach can achieve a much higher profitability by purchasing a combination of hotels."
      ]
    },
    {
      "metadata": {
        "id": "cxIJ_7TLpYxT",
        "colab_type": "code",
        "colab": {
          "autoexec": {
            "startup": false,
            "wait_interval": 0
          },
          "base_uri": "https://localhost:8080/",
          "height": 310
        },
        "outputId": "f14e2f24-0449-4845-af24-30134af13a5b",
        "executionInfo": {
          "status": "ok",
          "timestamp": 1525163871211,
          "user_tz": 420,
          "elapsed": 685,
          "user": {
            "displayName": "Zimei Yang",
            "photoUrl": "https://lh3.googleusercontent.com/a/default-user=s128",
            "userId": "103997432320800495390"
          }
        }
      },
      "cell_type": "code",
      "source": [
        "# define decision variables\n",
        "x=cvx.Bool(16)  \n",
        "price=np.matrix([2925000,10000000,3750000,3500000,325000,8950000,1950000,1750000,4900000,1650000,1125000,2500000,\n",
        "                 1975000,3750000,1475000,750000])\n",
        "profitability=np.matrix([44.24236879,53.37919231,43.02117894,42.6068584,37.34498761,49.09506947,23.77686566,\n",
        "                         23.44540924,28.66584798,38.88067311,38.01059999,40.28936293,39.41928981,42.36096561,\n",
        "                         38.59064874,37.38911919])\n",
        "\n",
        "# define objective\n",
        "objective=cvx.Maximize(cvx.sum_entries(profitability*x))  \n",
        "\n",
        "# define constraints\n",
        "con=[cvx.sum_entries(price*x)<=10000000]  \n",
        "\n",
        "# solve the problem\n",
        "prob=cvx.Problem(objective, con)\n",
        "selection=prob.solve()\n",
        "\n",
        "print(\"The optimal profitability of LQM is:\", selection)\n",
        "print(\"The choice of buying a hotel is\", x.value)"
      ],
      "execution_count": 99,
      "outputs": [
        {
          "output_type": "stream",
          "text": [
            "The optimal profitability of LQM is: 269.9246813795313\n",
            "The choice of buying a hotel is [[ 1.09310776e-13]\n",
            " [-8.04116515e-14]\n",
            " [ 2.21232959e-13]\n",
            " [ 2.07350241e-13]\n",
            " [ 1.00000000e+00]\n",
            " [-3.70481569e-14]\n",
            " [ 2.13841339e-13]\n",
            " [ 1.62603412e-13]\n",
            " [ 1.92789269e-13]\n",
            " [ 1.00000000e+00]\n",
            " [ 1.00000000e+00]\n",
            " [ 1.00000000e+00]\n",
            " [ 1.00000000e+00]\n",
            " [ 2.24582739e-13]\n",
            " [ 1.00000000e+00]\n",
            " [ 1.00000000e+00]]\n"
          ],
          "name": "stdout"
        }
      ]
    },
    {
      "metadata": {
        "id": "U9tNUa4G2djA",
        "colab_type": "text"
      },
      "cell_type": "markdown",
      "source": [
        "### 5. LQM thinks that buying too many hotels in one city is probably not a good idea and would prefer to diversify across as many cities as possible. Add constraint(s) to your model to limit the number of hotels purchased in any city to at most 2.\n",
        "\n",
        "---\n",
        "\n",
        "#### a. What are the constraints that you need to add to the model? Intuitively, do you expect the new optimal objective function value to be larger, smaller or the same as before?\n",
        "\n",
        "**New Constraints Added:**\n",
        "\n",
        "There are more than multiple hotels in these 3 locations, Fresno, South Lake Tahoe and Los Angeles, so new constraints are needed for them.\n",
        "\n",
        "\\begin{align}\n",
        "\\text{Fresno:}\\quad \\sum_{n=2}^{5} x_n&\\leq 2\\\\\n",
        "\\text{South Lake Tahoe:}\\quad \\sum_{n=10}^{16} x_n&\\leq 2\\\\\n",
        "\\text{Los Angeles:}\\quad \\sum_{n=7}^{9} x_n&\\leq 2\\\\\n",
        "\\end{align} \n",
        "\n",
        "Intuitively, I expect the new optimal objective function value to be smaller, since there are more constraints in the model now.\n",
        "\n",
        "#### b. Write the new optimization model. \n",
        "\n",
        "See code below.\n",
        "\n",
        "#### c. Solve the new model. Give the values of the decision variables and the optimal objective function value. How does this compare to the previous solution?\n",
        "\n",
        "In order to maximize the total predicted profitability, we should purchase hotel No.1, No.5, No.7, No.8, No.10, No.11.\n",
        "\n",
        "The optimal objective function value is 205.70090439717904.\n",
        "\n",
        "Comparing to the previous solution, this solution decreases profitability. A higher budget doesn't always bring higher profitability."
      ]
    },
    {
      "metadata": {
        "id": "KX7R-IbH2chD",
        "colab_type": "code",
        "colab": {
          "autoexec": {
            "startup": false,
            "wait_interval": 0
          },
          "base_uri": "https://localhost:8080/",
          "height": 310
        },
        "outputId": "1e7d9aea-84f4-4d62-c8aa-40da34f4c4af",
        "executionInfo": {
          "status": "ok",
          "timestamp": 1525164473689,
          "user_tz": 420,
          "elapsed": 351,
          "user": {
            "displayName": "Zimei Yang",
            "photoUrl": "https://lh3.googleusercontent.com/a/default-user=s128",
            "userId": "103997432320800495390"
          }
        }
      },
      "cell_type": "code",
      "source": [
        "# define decision variables\n",
        "x=cvx.Bool(16) \n",
        "\n",
        "price=np.matrix([2925000,10000000,3750000,3500000,325000,8950000,1950000,1750000,4900000,1650000,1125000,2500000,\n",
        "                 1975000,3750000,1475000,750000])\n",
        "profitability=np.matrix([44.24236879,53.37919231,43.02117894,42.6068584,37.34498761,49.09506947,23.77686566,\n",
        "                         23.44540924,28.66584798,38.88067311,38.01059999,40.28936293,39.41928981,42.36096561,\n",
        "                         38.59064874,37.38911919])\n",
        "\n",
        "#  define objective\n",
        "objective=cvx.Maximize(cvx.sum_entries(profitability*x))  # to maximize the average predicted profitability\n",
        "\n",
        "# define constraints\n",
        "c1=cvx.sum_entries(price*x)<=10000000  \n",
        "## Fresno\n",
        "c2=x[1]+x[2]+x[3]+x[4]<=2    \n",
        "## LA\n",
        "c3=x[6]+x[7]+x[8]<=2 \n",
        "## SoutH Lake Tahoe\n",
        "c4=x[9]+x[10]+x[11]+x[12]+x[13]+x[14]+x[15]<=2\n",
        "con=[c1,c2,c3,c4]\n",
        "\n",
        "# solve the problem\n",
        "prob=cvx.Problem(objective, con)\n",
        "selection=prob.solve()\n",
        "\n",
        "print(\"The optimal profitability of LQM is:\", selection)\n",
        "print(\"The choice of buying a hotel is\", x.value)"
      ],
      "execution_count": 100,
      "outputs": [
        {
          "output_type": "stream",
          "text": [
            "The optimal profitability of LQM is: 205.70090439717904\n",
            "The choice of buying a hotel is [[ 1.00000000e+00]\n",
            " [ 8.46881348e-12]\n",
            " [ 4.96142431e-12]\n",
            " [ 4.76555576e-12]\n",
            " [ 1.00000000e+00]\n",
            " [ 8.07499399e-12]\n",
            " [ 1.00000000e+00]\n",
            " [ 1.00000000e+00]\n",
            " [-8.79486802e-12]\n",
            " [ 1.00000000e+00]\n",
            " [ 1.00000000e+00]\n",
            " [-1.31327298e-11]\n",
            " [-1.55206693e-11]\n",
            " [-8.42586208e-12]\n",
            " [-1.86831456e-11]\n",
            " [-3.25040144e-11]]\n"
          ],
          "name": "stdout"
        }
      ]
    },
    {
      "metadata": {
        "id": "62JA9xLCQps7",
        "colab_type": "text"
      },
      "cell_type": "markdown",
      "source": [
        "### 6.\tIn one paragraph, describe how you would present your results to LQM. Do you have any recommendations for them to improve the regression model? How about to improve the optimization model? \n",
        "\n",
        "---\n",
        "\n",
        "According to optimization result, LQM should invest in a combination of hotels selected from the list and set the budget at 10 million dollars in order to achieve maximized profitability. My recommendation to imprve the optimization model is to conduct sensitive analyses on a reasonable range of budget to see how much budget can bring the highest profitabitiy.\n"
      ]
    }
  ]
}
